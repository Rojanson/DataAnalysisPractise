{
 "cells": [
  {
   "cell_type": "code",
   "execution_count": 11,
   "id": "f1df7733-5185-4a98-abd2-f6468e652bd7",
   "metadata": {},
   "outputs": [],
   "source": [
    "import numpy as np\n",
    "import seaborn as sb\n",
    "import matplotlib.pyplot as plt\n",
    "from scipy import stats\n",
    "import pandas as pd\n",
    "import math\n",
    "from sklearn.linear_model import LinearRegression"
   ]
  },
  {
   "cell_type": "code",
   "execution_count": 12,
   "id": "546c52f1-64d4-404b-8aae-08dcd8be27ea",
   "metadata": {},
   "outputs": [],
   "source": [
    "with open('rif.txt') as f:\n",
    "    lines = f.readlines()"
   ]
  },
  {
   "cell_type": "code",
   "execution_count": 13,
   "id": "5b03b98b-7c32-4a4d-a2ef-fffd7570688c",
   "metadata": {},
   "outputs": [],
   "source": [
    "X = list()\n",
    "Y = list()\n",
    "\n",
    "for line in lines[1:]:\n",
    "    line = line.replace('\\t', ' ').replace('\\n', '').split(' ')\n",
    "    X.append(float(line[1]))\n",
    "    Y.append(float(line[2]))"
   ]
  },
  {
   "cell_type": "code",
   "execution_count": 14,
   "id": "61a3b744-3386-48a4-943e-61a6b0b15ec0",
   "metadata": {},
   "outputs": [
    {
     "data": {
      "text/plain": [
       "<matplotlib.collections.PathCollection at 0x1eb16acc4f0>"
      ]
     },
     "execution_count": 14,
     "metadata": {},
     "output_type": "execute_result"
    },
    {
     "data": {
      "image/png": "[encoded data removed]",
      "text/plain": [
       "<Figure size 432x288 with 1 Axes>"
      ]
     },
     "metadata": {
      "needs_background": "light"
     },
     "output_type": "display_data"
    }
   ],
   "source": [
    "plt.scatter(X, Y)"
   ]
  },
  {
   "cell_type": "code",
   "execution_count": 17,
   "id": "61fe5121-1f93-4a89-9fe4-1fa13ab9f80e",
   "metadata": {},
   "outputs": [],
   "source": [
    "X = np.array(X)\n",
    "Y = np.array(Y)"
   ]
  },
  {
   "cell_type": "code",
   "execution_count": 34,
   "id": "f1453013-9f78-4dd2-9d2f-208ec8e3a0c3",
   "metadata": {},
   "outputs": [],
   "source": [
    "n = len(X)\n",
    "m = 3\n",
    "\n",
    "X_sup = np.zeros((n, m))\n",
    "\n",
    "for k in range(m):\n",
    "    X_sup[:, k] = X**k"
   ]
  },
  {
   "cell_type": "code",
   "execution_count": 35,
   "id": "e7176bd9-83fd-4521-9f4c-c77be35587cb",
   "metadata": {},
   "outputs": [
    {
     "name": "stdout",
     "output_type": "stream",
     "text": [
      "Parameters\n",
      "sec: 0.49349565806547857\n",
      "Коэффициенты модели: [ 0.00000000e+00  7.37983025e-03 -4.48152501e-05]\n",
      "Свободный член: 1.166510163678185\n"
     ]
    },
    {
     "data": {
      "text/plain": [
       "<matplotlib.collections.PathCollection at 0x1eb16e48e20>"
      ]
     },
     "execution_count": 35,
     "metadata": {},
     "output_type": "execute_result"
    },
    {
     "data": {
      "image/png": "[encoded data removed]",
      "text/plain": [
       "<Figure size 432x288 with 1 Axes>"
      ]
     },
     "metadata": {
      "needs_background": "light"
     },
     "output_type": "display_data"
    }
   ],
   "source": [
    "Liner = LinearRegression().fit(X_sup, Y)\n",
    "\n",
    "print('Parameters')\n",
    "print('sec:', Liner.score(X_sup, Y))\n",
    "print('Коэффициенты модели:', Liner.coef_)\n",
    "print('Свободный член:', Liner.intercept_)\n",
    "\n",
    "a = np.array(Liner.coef_)\n",
    "b = Liner.intercept_\n",
    "\n",
    "x = np.linspace(0, 70, 100)\n",
    "\n",
    "xs = np.zeros((100, m))\n",
    "\n",
    "for k in range(m):\n",
    "    xs[:, k] = x**k\n",
    "    \n",
    "Y_new = np.matmul(xs, a) + b\n",
    "\n",
    "plt.plot(x, Y_new)\n",
    "plt.scatter(X, Y)"
   ]
  },
  {
   "cell_type": "code",
   "execution_count": 36,
   "id": "cb34ac38-81ab-4943-b7cc-038ea23a5bd7",
   "metadata": {},
   "outputs": [
    {
     "data": {
      "text/plain": [
       "0.008554220514991632"
      ]
     },
     "execution_count": 36,
     "metadata": {},
     "output_type": "execute_result"
    }
   ],
   "source": [
    "Y_new = np.matmul(X_sup, a) + b\n",
    "\n",
    "((Y_new-Y)**2).mean()"
   ]
  },
  {
   "cell_type": "code",
   "execution_count": null,
   "id": "fb7ede6e-91f8-4472-94d0-906a8429ee3f",
   "metadata": {},
   "outputs": [],
   "source": []
  }
 ],
 "metadata": {
  "kernelspec": {
   "display_name": "Python 3 (ipykernel)",
   "language": "python",
   "name": "python3"
  },
  "language_info": {
   "codemirror_mode": {
    "name": "ipython",
    "version": 3
   },
   "file_extension": ".py",
   "mimetype": "text/x-python",
   "name": "python",
   "nbconvert_exporter": "python",
   "pygments_lexer": "ipython3",
   "version": "3.8.9"
  }
 },
 "nbformat": 4,
 "nbformat_minor": 5
}
