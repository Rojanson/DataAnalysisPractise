{
 "cells": [
  {
   "cell_type": "code",
   "execution_count": 3,
   "id": "990d7045-b8b9-4c30-81c4-5b3ae2029702",
   "metadata": {},
   "outputs": [],
   "source": [
    "import numpy as np\n",
    "import seaborn as sb\n",
    "import matplotlib.pyplot as plt\n",
    "from scipy import stats\n",
    "import pandas as pd\n",
    "import math"
   ]
  },
  {
   "cell_type": "markdown",
   "id": "06874ecc-6a79-4295-a4bf-cb63ec059b05",
   "metadata": {},
   "source": [
    "<h1>RIVERS</h1>"
   ]
  },
  {
   "cell_type": "code",
   "execution_count": 4,
   "id": "51f28f60-3e50-4b0e-93f9-f4678d68c8b5",
   "metadata": {},
   "outputs": [],
   "source": [
    "with open('rivers.txt') as file:\n",
    "    lines = file.readlines()"
   ]
  },
  {
   "cell_type": "code",
   "execution_count": 5,
   "id": "2247e5b2-f405-40f2-ac19-705d7af94807",
   "metadata": {},
   "outputs": [],
   "source": [
    "pacific_list = list()\n",
    "tasman_list = list()\n",
    "for line in lines:\n",
    "    line = line.replace('\\t', ' ' )\n",
    "    line = line.replace('\\n', '')\n",
    "    line = line.split(' ')\n",
    "    if line[2] == 'Pacific':\n",
    "        pacific_list.append(float(line[1]))\n",
    "    elif line[2] == 'Tasman':\n",
    "        tasman_list.append(float(line[1]))\n",
    "tasman_list = np.array(tasman_list)\n",
    "pacific_list = np.array(pacific_list)"
   ]
  },
  {
   "cell_type": "code",
   "execution_count": 110,
   "id": "cffb9a1f-2507-4fb1-8507-e277cfe3c614",
   "metadata": {},
   "outputs": [
    {
     "data": {
      "text/plain": [
       "((22,), (19,))"
      ]
     },
     "execution_count": 110,
     "metadata": {},
     "output_type": "execute_result"
    }
   ],
   "source": [
    "tasman_list.shape, pacific_list.shape"
   ]
  },
  {
   "cell_type": "code",
   "execution_count": 111,
   "id": "81f8272f-7c2c-4f5b-8d86-e83d9f67a1d2",
   "metadata": {},
   "outputs": [
    {
     "data": {
      "text/plain": [
       "(67.68181818181819, 131.1578947368421)"
      ]
     },
     "execution_count": 111,
     "metadata": {},
     "output_type": "execute_result"
    }
   ],
   "source": [
    "tasman_list.mean(), pacific_list.mean()"
   ]
  },
  {
   "cell_type": "code",
   "execution_count": 24,
   "id": "3eb51d8d-ac41-4a91-9b83-004442d6f356",
   "metadata": {},
   "outputs": [
    {
     "data": {
      "text/plain": [
       "MannwhitneyuResult(statistic=87.0, pvalue=0.9993378552933345)"
      ]
     },
     "execution_count": 24,
     "metadata": {},
     "output_type": "execute_result"
    }
   ],
   "source": [
    "stats.mannwhitneyu(tasman_list, pacific_list, alternative='greater')"
   ]
  },
  {
   "cell_type": "code",
   "execution_count": 25,
   "id": "9d63e04d-ccf8-4bb5-aab8-4a436e01f76f",
   "metadata": {},
   "outputs": [
    {
     "data": {
      "text/plain": [
       "KstestResult(statistic=0.0, pvalue=1.0)"
      ]
     },
     "execution_count": 25,
     "metadata": {},
     "output_type": "execute_result"
    }
   ],
   "source": [
    "stats.ks_2samp(tasman_list, pacific_list, alternative='less')"
   ]
  },
  {
   "cell_type": "markdown",
   "id": "5df6b076-435d-48fd-b8b2-864ef417b7c1",
   "metadata": {},
   "source": [
    "<h1>IRIS</h1>"
   ]
  },
  {
   "cell_type": "code",
   "execution_count": 2,
   "id": "4c7b71f3-1036-43f9-ba70-e38db4f33a62",
   "metadata": {},
   "outputs": [
    {
     "name": "stdout",
     "output_type": "stream",
     "text": [
      "   SepalLengthCm  SepalWidthCm  PetalLengthCm  PetalWidthCm      Species\n",
      "0            5.1           3.5            1.4           0.2  Iris-setosa\n",
      "1            4.9           3.0            1.4           0.2  Iris-setosa\n",
      "2            4.7           3.2            1.3           0.2  Iris-setosa\n",
      "3            4.6           3.1            1.5           0.2  Iris-setosa\n",
      "4            5.0           3.6            1.4           0.2  Iris-setosa\n"
     ]
    }
   ],
   "source": [
    "import pandas as pd\n",
    "df = pd.read_csv(\"https://archive.ics.uci.edu/ml/machine-learning-databases/iris/iris.data\",\n",
    "                 names = ['SepalLengthCm', 'SepalWidthCm', 'PetalLengthCm', 'PetalWidthCm', 'Species'])\n",
    "print(df.head())"
   ]
  },
  {
   "cell_type": "code",
   "execution_count": 77,
   "id": "31877e9f-d93c-4d62-8419-006f4d55dc20",
   "metadata": {},
   "outputs": [],
   "source": [
    "iris_setosa = list()\n",
    "iris_versicolor = list()\n",
    "iris_virginica = list()\n",
    "\n",
    "for index, row in df.iterrows():\n",
    "    lst = [row['SepalLengthCm'], row['SepalWidthCm'], row['PetalLengthCm'], \n",
    "          row['PetalWidthCm']]\n",
    "    if row['Species'] == 'Iris-setosa':\n",
    "        iris_setosa.append(lst)\n",
    "    elif row['Species'] == 'Iris-versicolor':\n",
    "        iris_versicolor.append(lst)\n",
    "    elif row['Species'] == 'Iris-virginica':\n",
    "        iris_virginica.append(lst)"
   ]
  },
  {
   "cell_type": "code",
   "execution_count": 30,
   "id": "e0d8707f-ba03-4be4-bfb7-1c9f41fa605f",
   "metadata": {},
   "outputs": [],
   "source": [
    "from hyppo.ksample import KSample\n",
    "\n",
    "criterion = 'HHG'"
   ]
  },
  {
   "cell_type": "code",
   "execution_count": 31,
   "id": "cb37c705-0034-4590-956f-48fa2bc52c7f",
   "metadata": {},
   "outputs": [
    {
     "data": {
      "text/plain": [
       "0.000999000999000999"
      ]
     },
     "execution_count": 31,
     "metadata": {},
     "output_type": "execute_result"
    }
   ],
   "source": [
    "ksample = KSample(criterion).test(np.array(iris_setosa), np.array(iris_versicolor)\n",
    "                    ,np.array(iris_virginica))\n",
    "ksample.pvalue"
   ]
  },
  {
   "cell_type": "code",
   "execution_count": 32,
   "id": "d0125983-3ea8-407e-8265-69a6d9651bb1",
   "metadata": {},
   "outputs": [
    {
     "data": {
      "text/plain": [
       "0.000999000999000999"
      ]
     },
     "execution_count": 32,
     "metadata": {},
     "output_type": "execute_result"
    }
   ],
   "source": [
    "ksample = KSample(criterion).test(np.array(iris_setosa), np.array(iris_versicolor))\n",
    "ksample.pvalue"
   ]
  },
  {
   "cell_type": "code",
   "execution_count": 33,
   "id": "e40dc68d-de0f-4519-a2ed-22116e1e2436",
   "metadata": {},
   "outputs": [
    {
     "data": {
      "text/plain": [
       "0.000999000999000999"
      ]
     },
     "execution_count": 33,
     "metadata": {},
     "output_type": "execute_result"
    }
   ],
   "source": [
    "ksample = KSample(criterion).test(np.array(iris_setosa), np.array(iris_virginica))\n",
    "ksample.pvalue"
   ]
  },
  {
   "cell_type": "code",
   "execution_count": 34,
   "id": "03d0041f-1157-4e6d-b433-6bd6822bf6d4",
   "metadata": {},
   "outputs": [
    {
     "data": {
      "text/plain": [
       "0.000999000999000999"
      ]
     },
     "execution_count": 34,
     "metadata": {},
     "output_type": "execute_result"
    }
   ],
   "source": [
    "ksample = KSample(criterion).test(np.array(iris_versicolor), np.array(iris_virginica))\n",
    "ksample.pvalue"
   ]
  },
  {
   "cell_type": "code",
   "execution_count": 35,
   "id": "d8c70d01-c61e-4df9-82b2-e7181aab00dc",
   "metadata": {},
   "outputs": [
    {
     "data": {
      "text/plain": [
       "0.000999000999000999"
      ]
     },
     "execution_count": 35,
     "metadata": {},
     "output_type": "execute_result"
    }
   ],
   "source": [
    "1/1001"
   ]
  },
  {
   "cell_type": "code",
   "execution_count": 36,
   "id": "22a248ea-af07-4934-ba24-66f2171897f2",
   "metadata": {},
   "outputs": [],
   "source": [
    "criterion = 'Hsic'"
   ]
  },
  {
   "cell_type": "code",
   "execution_count": 37,
   "id": "d6aa2da6-99ee-4e04-8b12-5d3695c0b5a9",
   "metadata": {},
   "outputs": [
    {
     "data": {
      "text/plain": [
       "9.281903157161839e-27"
      ]
     },
     "execution_count": 37,
     "metadata": {},
     "output_type": "execute_result"
    }
   ],
   "source": [
    "ksample = KSample(criterion).test(np.array(iris_setosa), np.array(iris_versicolor)\n",
    "                    ,np.array(iris_virginica))\n",
    "ksample.pvalue"
   ]
  },
  {
   "cell_type": "code",
   "execution_count": 38,
   "id": "1168a060-02b0-4161-9388-64f7f0436073",
   "metadata": {},
   "outputs": [
    {
     "data": {
      "text/plain": [
       "2.4524973332059437e-23"
      ]
     },
     "execution_count": 38,
     "metadata": {},
     "output_type": "execute_result"
    }
   ],
   "source": [
    "ksample = KSample(criterion).test(np.array(iris_setosa), np.array(iris_virginica))\n",
    "ksample.pvalue"
   ]
  },
  {
   "cell_type": "code",
   "execution_count": 39,
   "id": "6b5f3b86-3bc6-4c85-932d-aa4bb805143e",
   "metadata": {},
   "outputs": [
    {
     "data": {
      "text/plain": [
       "6.96691701692607e-23"
      ]
     },
     "execution_count": 39,
     "metadata": {},
     "output_type": "execute_result"
    }
   ],
   "source": [
    "ksample = KSample(criterion).test(np.array(iris_setosa), np.array(iris_versicolor))\n",
    "ksample.pvalue"
   ]
  },
  {
   "cell_type": "code",
   "execution_count": 40,
   "id": "f1921436-f729-4506-9397-e572773022f7",
   "metadata": {},
   "outputs": [
    {
     "data": {
      "text/plain": [
       "5.239294618609153e-15"
      ]
     },
     "execution_count": 40,
     "metadata": {},
     "output_type": "execute_result"
    }
   ],
   "source": [
    "ksample = KSample(criterion).test(np.array(iris_versicolor), np.array(iris_virginica))\n",
    "ksample.pvalue"
   ]
  },
  {
   "cell_type": "markdown",
   "id": "5be9ce0d-3238-42e5-9479-bd30c85dc968",
   "metadata": {},
   "source": [
    "<h1>MEAN</h1>"
   ]
  },
  {
   "cell_type": "code",
   "execution_count": 42,
   "id": "277c3160-cc2a-491d-a8ea-934e120f6a7f",
   "metadata": {},
   "outputs": [
    {
     "data": {
      "text/plain": [
       "5.86094394827863e-32"
      ]
     },
     "execution_count": 42,
     "metadata": {},
     "output_type": "execute_result"
    }
   ],
   "source": [
    "from hyppo.ksample import MANOVA\n",
    "\n",
    "ksample = MANOVA().test(np.array(iris_setosa), np.array(iris_versicolor)\n",
    "                    ,np.array(iris_virginica))\n",
    "ksample.pvalue"
   ]
  },
  {
   "cell_type": "code",
   "execution_count": null,
   "id": "c15f369c-ade0-446e-b3c8-6ca5c24ab4b4",
   "metadata": {},
   "outputs": [
    {
     "data": {
      "text/plain": [
       "4.848110016202354e-38"
      ]
     },
     "execution_count": 43,
     "metadata": {},
     "output_type": "execute_result"
    }
   ],
   "source": [
    "ksample = MANOVA().test(np.array(iris_setosa), np.array(iris_versicolor))\n",
    "ksample.pvalue"
   ]
  },
  {
   "cell_type": "code",
   "execution_count": 45,
   "id": "0514d247-daf4-4c12-ac84-730b3198b1db",
   "metadata": {},
   "outputs": [
    {
     "data": {
      "text/plain": [
       "8.427091717292316e-48"
      ]
     },
     "execution_count": 45,
     "metadata": {},
     "output_type": "execute_result"
    }
   ],
   "source": [
    "ksample = MANOVA().test(np.array(iris_setosa), np.array(iris_virginica))\n",
    "ksample.pvalue"
   ]
  },
  {
   "cell_type": "code",
   "execution_count": 48,
   "id": "e36bb38e-5028-4794-9468-6229df73a33c",
   "metadata": {},
   "outputs": [
    {
     "data": {
      "text/plain": [
       "1.9308765971414464e-12"
      ]
     },
     "execution_count": 48,
     "metadata": {},
     "output_type": "execute_result"
    }
   ],
   "source": [
    "ksample = MANOVA().test(np.array(iris_versicolor), np.array(iris_virginica))\n",
    "ksample.pvalue"
   ]
  },
  {
   "cell_type": "code",
   "execution_count": 79,
   "id": "acf85ec9-9bf4-4366-94e0-6be3c3e75a35",
   "metadata": {},
   "outputs": [],
   "source": [
    "iris_setosa = np.array(iris_setosa)\n",
    "iris_virginica = np.array(iris_virginica)\n",
    "iris_versicolor = np.array(iris_versicolor)"
   ]
  },
  {
   "cell_type": "code",
   "execution_count": 80,
   "id": "9b5b47b2-4968-439c-9375-c74e68f02c9a",
   "metadata": {},
   "outputs": [
    {
     "data": {
      "text/plain": [
       "(array([5.006, 3.418, 1.464, 0.244]),\n",
       " array([6.588, 2.974, 5.552, 2.026]),\n",
       " array([5.936, 2.77 , 4.26 , 1.326]))"
      ]
     },
     "execution_count": 80,
     "metadata": {},
     "output_type": "execute_result"
    }
   ],
   "source": [
    "iris_setosa.mean(axis=0), iris_virginica.mean(axis=0), iris_versicolor.mean(axis=0)"
   ]
  },
  {
   "cell_type": "markdown",
   "id": "b9ea1af9-86c1-49f3-bd74-56acc4a0f23e",
   "metadata": {},
   "source": [
    "<h1>POISON</h1"
   ]
  },
  {
   "cell_type": "code",
   "execution_count": 115,
   "id": "50541259-258e-4ec4-8cc1-ff4d6dd0c49c",
   "metadata": {},
   "outputs": [],
   "source": [
    "with open('poisson.txt') as file:\n",
    "    lines = file.readlines()"
   ]
  },
  {
   "cell_type": "code",
   "execution_count": 120,
   "id": "c96066e2-3360-40c9-afc6-fd7ac4b7cc3d",
   "metadata": {},
   "outputs": [],
   "source": [
    "\n",
    "col0 = list()\n",
    "col1 = list()\n",
    "col2 = list()\n",
    "\n",
    "for line in lines[1:]:\n",
    "    line = line.replace('\\t', ' ' )\n",
    "    line = line.replace('\\n', '')\n",
    "    lst = line.split(' ')\n",
    "    \n",
    "    col0.append(int(lst[0]))\n",
    "    col1.append(int(lst[1]))\n",
    "    col2.append(float(lst[2]))"
   ]
  },
  {
   "cell_type": "code",
   "execution_count": 124,
   "id": "cf7e1daf-88ef-4a6f-a623-869ed53c377d",
   "metadata": {},
   "outputs": [],
   "source": [
    "df = pd.DataFrame({'drug': col0,\n",
    "                   'cure': col1,\n",
    "                   'time': col2})"
   ]
  },
  {
   "cell_type": "code",
   "execution_count": 128,
   "id": "db3e4c11-88b0-4461-9209-7fc6a721050a",
   "metadata": {},
   "outputs": [
    {
     "data": {
      "text/html": [
       "<div>\n",
       "<style scoped>\n",
       "    .dataframe tbody tr th:only-of-type {\n",
       "        vertical-align: middle;\n",
       "    }\n",
       "\n",
       "    .dataframe tbody tr th {\n",
       "        vertical-align: top;\n",
       "    }\n",
       "\n",
       "    .dataframe thead th {\n",
       "        text-align: right;\n",
       "    }\n",
       "</style>\n",
       "<table border=\"1\" class=\"dataframe\">\n",
       "  <thead>\n",
       "    <tr style=\"text-align: right;\">\n",
       "      <th></th>\n",
       "      <th>sum_sq</th>\n",
       "      <th>df</th>\n",
       "      <th>F</th>\n",
       "      <th>PR(&gt;F)</th>\n",
       "    </tr>\n",
       "  </thead>\n",
       "  <tbody>\n",
       "    <tr>\n",
       "      <th>C(drug)</th>\n",
       "      <td>1.033012</td>\n",
       "      <td>2.0</td>\n",
       "      <td>23.221737</td>\n",
       "      <td>3.331440e-07</td>\n",
       "    </tr>\n",
       "    <tr>\n",
       "      <th>C(cure)</th>\n",
       "      <td>0.921206</td>\n",
       "      <td>3.0</td>\n",
       "      <td>13.805582</td>\n",
       "      <td>3.777331e-06</td>\n",
       "    </tr>\n",
       "    <tr>\n",
       "      <th>C(drug):C(cure)</th>\n",
       "      <td>0.250138</td>\n",
       "      <td>6.0</td>\n",
       "      <td>1.874333</td>\n",
       "      <td>1.122506e-01</td>\n",
       "    </tr>\n",
       "    <tr>\n",
       "      <th>Residual</th>\n",
       "      <td>0.800725</td>\n",
       "      <td>36.0</td>\n",
       "      <td>NaN</td>\n",
       "      <td>NaN</td>\n",
       "    </tr>\n",
       "  </tbody>\n",
       "</table>\n",
       "</div>"
      ],
      "text/plain": [
       "                   sum_sq    df          F        PR(>F)\n",
       "C(drug)          1.033012   2.0  23.221737  3.331440e-07\n",
       "C(cure)          0.921206   3.0  13.805582  3.777331e-06\n",
       "C(drug):C(cure)  0.250138   6.0   1.874333  1.122506e-01\n",
       "Residual         0.800725  36.0        NaN           NaN"
      ]
     },
     "execution_count": 128,
     "metadata": {},
     "output_type": "execute_result"
    }
   ],
   "source": [
    "import statsmodels.api as sm\n",
    "from statsmodels.formula.api import ols\n",
    "\n",
    "#perform two-way ANOVA\n",
    "model = ols('time ~ C(drug) + C(cure) + C(drug):C(cure)', data=df).fit()\n",
    "sm.stats.anova_lm(model, typ=2)"
   ]
  },
  {
   "cell_type": "code",
   "execution_count": null,
   "id": "b8c33d65-f1cf-455c-b23f-519fd9b2e9cd",
   "metadata": {},
   "outputs": [],
   "source": []
  }
 ],
 "metadata": {
  "kernelspec": {
   "display_name": "Python 3 (ipykernel)",
   "language": "python",
   "name": "python3"
  },
  "language_info": {
   "codemirror_mode": {
    "name": "ipython",
    "version": 3
   },
   "file_extension": ".py",
   "mimetype": "text/x-python",
   "name": "python",
   "nbconvert_exporter": "python",
   "pygments_lexer": "ipython3",
   "version": "3.8.9"
  }
 },
 "nbformat": 4,
 "nbformat_minor": 5
}
