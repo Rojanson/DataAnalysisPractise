{
 "cells": [
  {
   "cell_type": "code",
   "execution_count": 1,
   "id": "53737ead-3fd1-4ea4-b9a2-938afe53fd25",
   "metadata": {},
   "outputs": [],
   "source": [
    "import numpy as np\n",
    "from scipy import stats\n",
    "import seaborn as sb\n",
    "import matplotlib.pyplot as plt"
   ]
  },
  {
   "cell_type": "markdown",
   "id": "2da950a2-f058-4735-9be5-9f3f2022373a",
   "metadata": {},
   "source": [
    "<h1>TASK 1</h1>"
   ]
  },
  {
   "cell_type": "code",
   "execution_count": null,
   "id": "6676fb99-70af-4acb-950e-2c31a61e5ed1",
   "metadata": {},
   "outputs": [],
   "source": [
    "\n",
    "\n",
    "for i in range(100):\n",
    "    data0 = np.random.normal(0, 1, 1000)\n",
    "    data1 = np.random.normal(0, 1, 1000)\n",
    "    \n",
    "    "
   ]
  },
  {
   "cell_type": "code",
   "execution_count": null,
   "id": "d8144b01-bf84-4f0a-a02e-f04baa319d49",
   "metadata": {},
   "outputs": [],
   "source": [
    "\n",
    "\n",
    "for i in range(100):\n",
    "    data0 = np.random.normal(0, 1, 1000)\n",
    "    data1 = np.random.normal(0, 1.5, 1000)\n",
    "    \n",
    "    "
   ]
  },
  {
   "cell_type": "code",
   "execution_count": 5,
   "id": "2643c2cd-ca2f-431e-ac98-e91e0ad6ff39",
   "metadata": {},
   "outputs": [],
   "source": [
    "\n",
    "\n",
    "for i in range(100):\n",
    "    data0 = np.random.exponential(1, 1000)\n",
    "    data1 = np.random.exponential(1.3, 1000)\n",
    "    "
   ]
  },
  {
   "cell_type": "markdown",
   "id": "af6fe984-d743-4833-869d-05b22a029267",
   "metadata": {},
   "source": [
    "<h1>TASK 2<h1>"
   ]
  },
  {
   "cell_type": "markdown",
   "id": "232efd18-5bd6-48de-8dc7-c9c145143208",
   "metadata": {},
   "source": [
    "<h1>a)</h1>"
   ]
  },
  {
   "cell_type": "code",
   "execution_count": 27,
   "id": "f2b74ac1-844b-4121-a627-01be617e47f5",
   "metadata": {},
   "outputs": [],
   "source": [
    "a_list = [5, 5, 5, 5, 5]\n",
    "\n",
    "data_list = list()\n",
    "\n",
    "for a in a_list:\n",
    "    data_list.append(np.random.uniform(a - 1/2, a + 1/2, 100))"
   ]
  },
  {
   "cell_type": "code",
   "execution_count": 30,
   "id": "8e6b2867-3423-40cd-81da-2332a6de1b7e",
   "metadata": {},
   "outputs": [
    {
     "data": {
      "text/plain": [
       "F_onewayResult(statistic=0.5893440359925491, pvalue=0.6704977410779411)"
      ]
     },
     "execution_count": 30,
     "metadata": {},
     "output_type": "execute_result"
    }
   ],
   "source": [
    "stats.f_oneway(*data_list)"
   ]
  },
  {
   "cell_type": "code",
   "execution_count": 31,
   "id": "783926ae-b08e-441a-8de3-9dfb13a280eb",
   "metadata": {},
   "outputs": [
    {
     "data": {
      "text/plain": [
       "KruskalResult(statistic=2.3693537724550424, pvalue=0.6681724722556981)"
      ]
     },
     "execution_count": 31,
     "metadata": {},
     "output_type": "execute_result"
    }
   ],
   "source": [
    "stats.kruskal(*data_list)"
   ]
  },
  {
   "cell_type": "markdown",
   "id": "018c6c3c-ed84-4231-9921-e61c3a81f2f8",
   "metadata": {},
   "source": [
    "<h1>b)</h1"
   ]
  },
  {
   "cell_type": "code",
   "execution_count": 32,
   "id": "bc91cffe-1112-4c80-905c-43e3342f1676",
   "metadata": {},
   "outputs": [],
   "source": [
    "a_list = [0, 0, 0, 0, 0.5]\n",
    "\n",
    "data_list = list()\n",
    "\n",
    "for a in a_list:\n",
    "    data_list.append(np.random.uniform(a - 1/2, a + 1/2, 100))"
   ]
  },
  {
   "cell_type": "code",
   "execution_count": 33,
   "id": "c9642e66-a9a1-4d29-b2b8-8109cb188cfc",
   "metadata": {},
   "outputs": [
    {
     "data": {
      "text/plain": [
       "F_onewayResult(statistic=64.7129686062041, pvalue=5.25917912524081e-44)"
      ]
     },
     "execution_count": 33,
     "metadata": {},
     "output_type": "execute_result"
    }
   ],
   "source": [
    "stats.f_oneway(*data_list)"
   ]
  },
  {
   "cell_type": "code",
   "execution_count": 34,
   "id": "8d922f0f-e01a-4cad-a2b4-7ef98d860179",
   "metadata": {},
   "outputs": [
    {
     "data": {
      "text/plain": [
       "KruskalResult(statistic=149.80525317365255, pvalue=2.2410905177457685e-31)"
      ]
     },
     "execution_count": 34,
     "metadata": {},
     "output_type": "execute_result"
    }
   ],
   "source": [
    "stats.kruskal(*data_list)"
   ]
  },
  {
   "cell_type": "markdown",
   "id": "043c52ee-7261-4d45-97ad-6bd82d3c6888",
   "metadata": {},
   "source": [
    "<h1>c)</h1"
   ]
  },
  {
   "cell_type": "code",
   "execution_count": 35,
   "id": "92c46d91-a6fc-40f6-b9b8-7e8614821cb8",
   "metadata": {},
   "outputs": [],
   "source": [
    "data_list = list()\n",
    "\n",
    "for i in range(5):\n",
    "    a = (i+1)/10\n",
    "    data_list.append(np.random.uniform(a - 1/2, a + 1/2, 100))"
   ]
  },
  {
   "cell_type": "code",
   "execution_count": 36,
   "id": "d3df0fed-8b5f-4983-9acc-3713ca29a07c",
   "metadata": {},
   "outputs": [
    {
     "data": {
      "text/plain": [
       "F_onewayResult(statistic=33.91236686396186, pvalue=5.029629419746079e-25)"
      ]
     },
     "execution_count": 36,
     "metadata": {},
     "output_type": "execute_result"
    }
   ],
   "source": [
    "stats.f_oneway(*data_list)"
   ]
  },
  {
   "cell_type": "code",
   "execution_count": 37,
   "id": "231b3c26-244a-494d-94b2-c918c685606c",
   "metadata": {},
   "outputs": [
    {
     "data": {
      "text/plain": [
       "KruskalResult(statistic=97.27391808383231, pvalue=3.741469752530606e-20)"
      ]
     },
     "execution_count": 37,
     "metadata": {},
     "output_type": "execute_result"
    }
   ],
   "source": [
    "stats.kruskal(*data_list)"
   ]
  },
  {
   "cell_type": "code",
   "execution_count": null,
   "id": "9adb57f7-c57a-426d-a410-c81c1727fa8a",
   "metadata": {},
   "outputs": [],
   "source": []
  }
 ],
 "metadata": {
  "kernelspec": {
   "display_name": "Python 3 (ipykernel)",
   "language": "python",
   "name": "python3"
  },
  "language_info": {
   "codemirror_mode": {
    "name": "ipython",
    "version": 3
   },
   "file_extension": ".py",
   "mimetype": "text/x-python",
   "name": "python",
   "nbconvert_exporter": "python",
   "pygments_lexer": "ipython3",
   "version": "3.8.9"
  }
 },
 "nbformat": 4,
 "nbformat_minor": 5
}
