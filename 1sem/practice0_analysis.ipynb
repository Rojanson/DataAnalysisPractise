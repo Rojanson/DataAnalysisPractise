{
 "cells": [
  {
   "cell_type": "code",
   "execution_count": 1,
   "id": "3ee4401a-7f30-44ef-b6fc-d08dbe47bd70",
   "metadata": {},
   "outputs": [],
   "source": [
    "import numpy as np\n",
    "import seaborn as sb\n",
    "import matplotlib.pyplot as plt\n",
    "from scipy import stats\n",
    "import pandas as pd\n",
    "import math\n",
    "from sklearn.linear_model import LinearRegression"
   ]
  },
  {
   "cell_type": "markdown",
   "id": "b32739e2-02b6-4cb9-b092-6ab43db7d33a",
   "metadata": {},
   "source": [
    "<h2>COUNTRIES POPULATION</h2>"
   ]
  },
  {
   "cell_type": "code",
   "execution_count": 2,
   "id": "ed5e57f3-00b5-4065-81fa-a0fc9483c69f",
   "metadata": {},
   "outputs": [],
   "source": [
    "\n",
    "sheet1, sheet2 = None, None\n",
    "with pd.ExcelFile(\"stran_po_naseleniyu-933j.xlsx\") as reader:\n",
    "    sheet1 = pd.read_excel(reader)"
   ]
  },
  {
   "cell_type": "code",
   "execution_count": 3,
   "id": "8ad81478-0499-42f2-b481-f5458aabb726",
   "metadata": {},
   "outputs": [],
   "source": [
    "country_pop_table = sheet1[2:-4]"
   ]
  },
  {
   "cell_type": "code",
   "execution_count": 4,
   "id": "d3e29de1-b29a-4d3a-871c-c22f4738b44a",
   "metadata": {},
   "outputs": [],
   "source": [
    "population_list = list(country_pop_table['Население'])\n",
    "\n",
    "\n",
    "for i in range(len(population_list)):\n",
    "    population_list[i] = (str(population_list[i]).replace('\\xa0', ''))"
   ]
  },
  {
   "cell_type": "code",
   "execution_count": 5,
   "id": "559f1d8a-f45e-4350-9c9e-ed91f48fa491",
   "metadata": {},
   "outputs": [],
   "source": [
    "first_num_pop = list()\n",
    "\n",
    "for num in population_list:\n",
    "    first_num_pop.append(int(num[0]))"
   ]
  },
  {
   "cell_type": "code",
   "execution_count": 30,
   "id": "1235e21b-5e4c-4862-a138-d68947d3a9af",
   "metadata": {},
   "outputs": [
    {
     "name": "stdout",
     "output_type": "stream",
     "text": [
      "For 9 Our: 0.04 Real 0.05\n",
      "For 8 Our: 0.06 Real 0.05\n",
      "For 7 Our: 0.05 Real 0.06\n",
      "For 6 Our: 0.07 Real 0.07\n",
      "For 5 Our: 0.11 Real 0.08\n",
      "For 4 Our: 0.09 Real 0.10\n",
      "For 3 Our: 0.14 Real 0.12\n",
      "For 2 Our: 0.18 Real 0.18\n",
      "For 1 Our: 0.27 Real 0.30\n"
     ]
    }
   ],
   "source": [
    "first_num_pop = np.array(first_num_pop)\n",
    "\n",
    "x_list = list()\n",
    "y_list = list()\n",
    "for i in reversed(range(1, 10)):\n",
    "    curr_sum = (first_num_pop[first_num_pop == i]).sum()\n",
    "    x_list.append(curr_sum/(i*len(first_num_pop)))\n",
    "    y_list.append((math.log(1+1/i, 10)))\n",
    "    print(\"For {:d} Our: {:.2f} Real {:.2f}\".format(i, curr_sum/(i*len(first_num_pop)), math.log(1+1/i, 10)))"
   ]
  },
  {
   "cell_type": "code",
   "execution_count": 53,
   "id": "96a5baf7-94c6-407d-9ae4-c3b661dcc570",
   "metadata": {},
   "outputs": [
    {
     "data": {
      "text/plain": [
       "0.9999999996833728"
      ]
     },
     "execution_count": 53,
     "metadata": {},
     "output_type": "execute_result"
    }
   ],
   "source": [
    "stats.chisquare(x_list, y_list).pvalue"
   ]
  },
  {
   "cell_type": "code",
   "execution_count": 48,
   "id": "c571fc83-e103-4c3f-bab4-b66ef57dcc91",
   "metadata": {},
   "outputs": [
    {
     "data": {
      "text/plain": [
       "[<matplotlib.lines.Line2D at 0x13c497c8a90>]"
      ]
     },
     "execution_count": 48,
     "metadata": {},
     "output_type": "execute_result"
    },
    {
     "data": {
      "image/png": "[encoded data removed]",
      "text/plain": [
       "<Figure size 432x288 with 1 Axes>"
      ]
     },
     "metadata": {
      "needs_background": "light"
     },
     "output_type": "display_data"
    }
   ],
   "source": [
    "Liner = LinearRegression().fit(np.array(x_list).reshape(-1,1), np.array(y_list))\n",
    "linear_reg = x_list*Liner.coef_ + Liner.intercept_\n",
    "plt.plot(x_list, y_list, 'or')\n",
    "plt.plot(x_list, linear_reg, 'g')"
   ]
  },
  {
   "cell_type": "code",
   "execution_count": 81,
   "id": "b331427d-22b6-4568-b261-da8d7b049101",
   "metadata": {},
   "outputs": [
    {
     "data": {
      "text/plain": [
       "<BarContainer object of 9 artists>"
      ]
     },
     "execution_count": 81,
     "metadata": {},
     "output_type": "execute_result"
    },
    {
     "data": {
      "image/png": "[encoded data removed]",
      "text/plain": [
       "<Figure size 864x720 with 1 Axes>"
      ]
     },
     "metadata": {
      "needs_background": "light"
     },
     "output_type": "display_data"
    }
   ],
   "source": [
    "fig, ax = plt.subplots(1, 1, figsize=(12, 10))\n",
    "\n",
    "#sb.histplot(first_num_pop, kde=False, stat=\"density\", ax=ax, color='r')\n",
    "ax.bar(list(reversed(list(range(1, 10)))), y_list, color='b', width = 1, edgecolor='black', alpha=1)\n",
    "ax.bar(list(reversed(list(range(1, 10)))), x_list, color='r', width = 1, edgecolor='black', alpha=0.5)"
   ]
  },
  {
   "cell_type": "markdown",
   "id": "3bdd08fb-757d-425e-b2ae-93c874db2ec3",
   "metadata": {},
   "source": [
    "<h2>FIBONACCI</h2>"
   ]
  },
  {
   "cell_type": "code",
   "execution_count": 9,
   "id": "39fa114c-01d8-4357-b4d9-df36d64bb4f3",
   "metadata": {},
   "outputs": [],
   "source": [
    "fib_table = pd.read_csv('fibonacci.csv')"
   ]
  },
  {
   "cell_type": "code",
   "execution_count": 10,
   "id": "36e2ca64-da09-4f21-b446-4a88dabb99bf",
   "metadata": {},
   "outputs": [],
   "source": [
    "fib_numbers = list(fib_table['f(n)'])\n",
    "\n",
    "first_fib_numbers = list()\n",
    "\n",
    "x_list = list()\n",
    "y_list = list()\n",
    "\n",
    "for num in fib_numbers:\n",
    "    first_fib_numbers.append(int(num[0]))"
   ]
  },
  {
   "cell_type": "code",
   "execution_count": 91,
   "id": "6b67c529-6a03-42d5-88f7-886350e28483",
   "metadata": {},
   "outputs": [
    {
     "name": "stdout",
     "output_type": "stream",
     "text": [
      "For 1 Our: 0.30 Real 0.30\n",
      "For 2 Our: 0.17 Real 0.18\n",
      "For 3 Our: 0.13 Real 0.12\n",
      "For 4 Our: 0.09 Real 0.10\n",
      "For 5 Our: 0.08 Real 0.08\n",
      "For 6 Our: 0.07 Real 0.07\n",
      "For 7 Our: 0.06 Real 0.06\n",
      "For 8 Our: 0.05 Real 0.05\n",
      "For 9 Our: 0.04 Real 0.05\n"
     ]
    }
   ],
   "source": [
    "first_fib_numbers = np.array(first_fib_numbers)\n",
    "\n",
    "x_list = list()\n",
    "y_list = list()\n",
    "\n",
    "for i in range(1, 10):\n",
    "    curr_sum = (first_fib_numbers[first_fib_numbers == i]).sum()\n",
    "    x_list.append(curr_sum/(i*len(first_fib_numbers)))\n",
    "    y_list.append((math.log(1+1/i, 10)))\n",
    "    print(\"For {:d} Our: {:.2f} Real {:.2f}\".format(i, curr_sum/(i*len(first_fib_numbers)), math.log(1+1/i, 10)))"
   ]
  },
  {
   "cell_type": "code",
   "execution_count": 94,
   "id": "c5a65a85-853a-4895-80d6-0f1ec560c285",
   "metadata": {},
   "outputs": [
    {
     "data": {
      "text/plain": [
       "0.9999999999999998"
      ]
     },
     "execution_count": 94,
     "metadata": {},
     "output_type": "execute_result"
    }
   ],
   "source": [
    "stats.chisquare(x_list, y_list).pvalue"
   ]
  },
  {
   "cell_type": "code",
   "execution_count": 95,
   "id": "d71a9a5c-ce94-4f71-8e5b-f5d0cd292ec6",
   "metadata": {},
   "outputs": [
    {
     "data": {
      "text/plain": [
       "[<matplotlib.lines.Line2D at 0x13c4e4597f0>]"
      ]
     },
     "execution_count": 95,
     "metadata": {},
     "output_type": "execute_result"
    },
    {
     "data": {
      "image/png": "[encoded data removed]",
      "text/plain": [
       "<Figure size 432x288 with 1 Axes>"
      ]
     },
     "metadata": {
      "needs_background": "light"
     },
     "output_type": "display_data"
    }
   ],
   "source": [
    "Liner = LinearRegression().fit(np.array(x_list).reshape(-1,1), np.array(y_list))\n",
    "linear_reg = x_list*Liner.coef_ + Liner.intercept_\n",
    "plt.plot(x_list, y_list, 'or')\n",
    "plt.plot(x_list, linear_reg, 'g')"
   ]
  },
  {
   "cell_type": "code",
   "execution_count": 93,
   "id": "e70d6cc1-3679-4c68-90b3-775d7f92ffdc",
   "metadata": {},
   "outputs": [
    {
     "data": {
      "text/plain": [
       "<BarContainer object of 9 artists>"
      ]
     },
     "execution_count": 93,
     "metadata": {},
     "output_type": "execute_result"
    },
    {
     "data": {
      "image/png": "[encoded data removed]",
      "text/plain": [
       "<Figure size 864x720 with 1 Axes>"
      ]
     },
     "metadata": {
      "needs_background": "light"
     },
     "output_type": "display_data"
    }
   ],
   "source": [
    "fig, ax = plt.subplots(1, 1, figsize=(12, 10))\n",
    "\n",
    "#sb.histplot(first_num_pop, kde=False, stat=\"density\", ax=ax, color='r')\n",
    "ax.bar(list((list(range(1, 10)))), y_list, color='b', width = 1, edgecolor='black', alpha=1)\n",
    "ax.bar(list((list(range(1, 10)))), x_list, color='r', width = 1, edgecolor='black', alpha=0.5)"
   ]
  },
  {
   "cell_type": "markdown",
   "id": "48cd6db9-6cdc-4b88-a1ad-0497385ab902",
   "metadata": {},
   "source": [
    "<h2>BITCOIN PRICE</h2>"
   ]
  },
  {
   "cell_type": "code",
   "execution_count": 12,
   "id": "c205cc0c-07e6-4c48-ad4c-7e3288da4f23",
   "metadata": {},
   "outputs": [],
   "source": [
    "b_table = pd.read_csv('coin_Bitcoin.csv')"
   ]
  },
  {
   "cell_type": "code",
   "execution_count": 13,
   "id": "ba4ec157-3301-436a-9178-d832532b80a5",
   "metadata": {},
   "outputs": [],
   "source": [
    "bit_low = list(b_table['Low'])\n",
    "\n",
    "\n",
    "\n",
    "first_bit_numbers = list()\n",
    "\n",
    "for elem in bit_low:\n",
    "    first_bit_numbers.append(int(str(elem)[0]))"
   ]
  },
  {
   "cell_type": "code",
   "execution_count": 101,
   "id": "9386bb78-9ff2-47a0-9936-2360ba67faa3",
   "metadata": {},
   "outputs": [
    {
     "name": "stdout",
     "output_type": "stream",
     "text": [
      "For 1 Our: 0.18 Real 0.30\n",
      "For 2 Our: 0.13 Real 0.18\n",
      "For 3 Our: 0.14 Real 0.12\n",
      "For 4 Our: 0.11 Real 0.10\n",
      "For 5 Our: 0.09 Real 0.08\n",
      "For 6 Our: 0.12 Real 0.07\n",
      "For 7 Our: 0.08 Real 0.06\n",
      "For 8 Our: 0.07 Real 0.05\n",
      "For 9 Our: 0.08 Real 0.05\n"
     ]
    }
   ],
   "source": [
    "first_bit_numbers = np.array(first_bit_numbers)\n",
    "\n",
    "\n",
    "x_list = list()\n",
    "y_list = list()\n",
    "\n",
    "for i in range(1, 10):\n",
    "    curr_sum = (first_bit_numbers[first_bit_numbers == i]).sum()\n",
    "    x_list.append(curr_sum/(i*len(first_bit_numbers)))\n",
    "    y_list.append((math.log(1+1/i, 10)))\n",
    "    print(\"For {:d} Our: {:.2f} Real {:.2f}\".format(i, curr_sum/(i*len(first_bit_numbers)), math.log(1+1/i, 10)))"
   ]
  },
  {
   "cell_type": "code",
   "execution_count": 102,
   "id": "9cb8661a-0dc5-463f-8b4b-f554c6b65b78",
   "metadata": {},
   "outputs": [
    {
     "data": {
      "text/plain": [
       "0.9999987294435019"
      ]
     },
     "execution_count": 102,
     "metadata": {},
     "output_type": "execute_result"
    }
   ],
   "source": [
    "stats.chisquare(x_list, y_list).pvalue"
   ]
  },
  {
   "cell_type": "code",
   "execution_count": 103,
   "id": "8d4d78e3-ac9d-4052-a542-980e8989841f",
   "metadata": {},
   "outputs": [
    {
     "data": {
      "text/plain": [
       "[<matplotlib.lines.Line2D at 0x13c4e4bdc10>]"
      ]
     },
     "execution_count": 103,
     "metadata": {},
     "output_type": "execute_result"
    },
    {
     "data": {
      "image/png": "[encoded data removed]",
      "text/plain": [
       "<Figure size 432x288 with 1 Axes>"
      ]
     },
     "metadata": {
      "needs_background": "light"
     },
     "output_type": "display_data"
    }
   ],
   "source": [
    "Liner = LinearRegression().fit(np.array(x_list).reshape(-1,1), np.array(y_list))\n",
    "linear_reg = x_list*Liner.coef_ + Liner.intercept_\n",
    "plt.plot(x_list, y_list, 'or')\n",
    "plt.plot(x_list, linear_reg, 'g')"
   ]
  },
  {
   "cell_type": "code",
   "execution_count": 104,
   "id": "919b60ac-fde1-4d69-a21e-1e1f739b1f7e",
   "metadata": {},
   "outputs": [
    {
     "data": {
      "text/plain": [
       "<BarContainer object of 9 artists>"
      ]
     },
     "execution_count": 104,
     "metadata": {},
     "output_type": "execute_result"
    },
    {
     "data": {
      "image/png": "[encoded data removed]",
      "text/plain": [
       "<Figure size 864x720 with 1 Axes>"
      ]
     },
     "metadata": {
      "needs_background": "light"
     },
     "output_type": "display_data"
    }
   ],
   "source": [
    "fig, ax = plt.subplots(1, 1, figsize=(12, 10))\n",
    "\n",
    "#sb.histplot(first_num_pop, kde=False, stat=\"density\", ax=ax, color='r')\n",
    "ax.bar(list((list(range(1, 10)))), y_list, color='b', width = 1, edgecolor='black', alpha=1)\n",
    "ax.bar(list((list(range(1, 10)))), x_list, color='r', width = 1, edgecolor='black', alpha=0.5)"
   ]
  },
  {
   "cell_type": "markdown",
   "id": "4ca381ff-49a8-4b03-8f82-b130b56ce08b",
   "metadata": {},
   "source": [
    "<h1>SECOND TASK</h1>"
   ]
  },
  {
   "cell_type": "code",
   "execution_count": 2,
   "id": "34266522-d7c5-4371-bfba-f374935d8f23",
   "metadata": {},
   "outputs": [],
   "source": [
    "kiama_data = list()\n",
    "\n",
    "with open('kiama.txt') as file:\n",
    "    lines = file.readlines()\n",
    "    for line in lines:\n",
    "        kiama_data.append(int(line))\n",
    "kiama_data = np.array(kiama_data)\n",
    "lambda_ = 1/(kiama_data.mean())"
   ]
  },
  {
   "cell_type": "code",
   "execution_count": 3,
   "id": "b3aeb8e4-dcb9-453c-85cf-02d4ae1d3347",
   "metadata": {},
   "outputs": [
    {
     "data": {
      "text/plain": [
       "<AxesSubplot:ylabel='Density'>"
      ]
     },
     "execution_count": 3,
     "metadata": {},
     "output_type": "execute_result"
    },
    {
     "data": {
      "image/png": "[encoded data removed]",
      "text/plain": [
       "<Figure size 864x720 with 1 Axes>"
      ]
     },
     "metadata": {
      "needs_background": "light"
     },
     "output_type": "display_data"
    }
   ],
   "source": [
    "x_list = np.linspace(0, 170, 1000)\n",
    "y_list = list()\n",
    "\n",
    "fig, ax = plt.subplots(1, 1, figsize=(12, 10))\n",
    "\n",
    "for x in x_list:\n",
    "    y_list.append(lambda_*math.exp(-lambda_*x))\n",
    "ax.plot(x_list, y_list, color='r')\n",
    "sb.histplot(kiama_data, kde=False, stat=\"density\", ax=ax)"
   ]
  },
  {
   "cell_type": "code",
   "execution_count": 4,
   "id": "961ca2e2-5a01-462d-9d20-5c1ad38f9d4e",
   "metadata": {},
   "outputs": [],
   "source": [
    "anderson = stats.anderson(kiama_data, 'expon')"
   ]
  },
  {
   "cell_type": "code",
   "execution_count": 5,
   "id": "1a55d32c-3424-4d9d-af25-97bc2eb9b0c7",
   "metadata": {},
   "outputs": [
    {
     "data": {
      "text/plain": [
       "AndersonResult(statistic=1.5896906971255333, critical_values=array([0.913, 1.068, 1.329, 1.591, 1.939]), significance_level=array([15. , 10. ,  5. ,  2.5,  1. ]))"
      ]
     },
     "execution_count": 5,
     "metadata": {},
     "output_type": "execute_result"
    }
   ],
   "source": [
    "anderson"
   ]
  },
  {
   "cell_type": "code",
   "execution_count": 6,
   "id": "166304d6-8751-4fd1-8c8b-82078a937f5e",
   "metadata": {},
   "outputs": [
    {
     "data": {
      "text/plain": [
       "64"
      ]
     },
     "execution_count": 6,
     "metadata": {},
     "output_type": "execute_result"
    }
   ],
   "source": [
    "len(kiama_data)"
   ]
  },
  {
   "cell_type": "code",
   "execution_count": null,
   "id": "63ffda48-449b-448a-b496-675148fe4714",
   "metadata": {},
   "outputs": [],
   "source": []
  }
 ],
 "metadata": {
  "kernelspec": {
   "display_name": "Python 3 (ipykernel)",
   "language": "python",
   "name": "python3"
  },
  "language_info": {
   "codemirror_mode": {
    "name": "ipython",
    "version": 3
   },
   "file_extension": ".py",
   "mimetype": "text/x-python",
   "name": "python",
   "nbconvert_exporter": "python",
   "pygments_lexer": "ipython3",
   "version": "3.8.9"
  }
 },
 "nbformat": 4,
 "nbformat_minor": 5
}
