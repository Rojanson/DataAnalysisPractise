{
 "cells": [
  {
   "cell_type": "code",
   "execution_count": 2,
   "id": "a3bcd4c3-4376-4ca8-8e41-09488569dc56",
   "metadata": {},
   "outputs": [],
   "source": [
    "import numpy as np\n",
    "from scipy import stats\n",
    "import seaborn as sb\n",
    "import matplotlib.pyplot as plt"
   ]
  },
  {
   "cell_type": "markdown",
   "id": "9a1171a8-d663-4907-8cac-dc2004480c12",
   "metadata": {},
   "source": [
    "<h1>TASK 3</h1>"
   ]
  },
  {
   "cell_type": "code",
   "execution_count": 2,
   "id": "18d9ddb1-de29-430e-bebb-bfb84031294e",
   "metadata": {},
   "outputs": [
    {
     "name": "stderr",
     "output_type": "stream",
     "text": [
      "c:\\users\\nurma\\appdata\\local\\programs\\python\\python38\\lib\\site-packages\\seaborn\\distributions.py:2619: FutureWarning: `distplot` is a deprecated function and will be removed in a future version. Please adapt your code to use either `displot` (a figure-level function with similar flexibility) or `histplot` (an axes-level function for histograms).\n",
      "  warnings.warn(msg, FutureWarning)\n"
     ]
    },
    {
     "data": {
      "text/plain": [
       "<AxesSubplot:ylabel='Density'>"
      ]
     },
     "execution_count": 2,
     "metadata": {},
     "output_type": "execute_result"
    },
    {
     "data": {
      "image/png": "[encoded data removed]",
      "text/plain": [
       "<Figure size 432x288 with 1 Axes>"
      ]
     },
     "metadata": {
      "needs_background": "light"
     },
     "output_type": "display_data"
    }
   ],
   "source": [
    "sum_of = 0\n",
    "pvalue_list = list()\n",
    "for i in range(100):\n",
    "    data = np.random.laplace(0, 1, 1000)\n",
    "    pvalue = stats.normaltest(data)\n",
    "    pvalue_list.append(pvalue.pvalue)\n",
    "    sum_of += pvalue.pvalue\n",
    "sum_of/100\n",
    "sb.distplot(pvalue_list)"
   ]
  },
  {
   "cell_type": "code",
   "execution_count": 3,
   "id": "3fd13d9e-5005-4c4c-a47b-8954a6e260f0",
   "metadata": {},
   "outputs": [
    {
     "data": {
      "text/plain": [
       "<seaborn.axisgrid.FacetGrid at 0x1d6a75f3580>"
      ]
     },
     "execution_count": 3,
     "metadata": {},
     "output_type": "execute_result"
    },
    {
     "data": {
      "image/png": "[encoded data removed]",
      "text/plain": [
       "<Figure size 360x360 with 1 Axes>"
      ]
     },
     "metadata": {
      "needs_background": "light"
     },
     "output_type": "display_data"
    }
   ],
   "source": [
    "sum_of = 0\n",
    "pvalue_list = list()\n",
    "for i in range(100):\n",
    "    data = np.random.normal(0, 1, 1000)\n",
    "    pvalue = stats.normaltest(data)\n",
    "    pvalue_list.append(pvalue.pvalue)\n",
    "    sum_of += pvalue.pvalue\n",
    "sum_of/100\n",
    "sb.displot(pvalue_list)"
   ]
  },
  {
   "cell_type": "code",
   "execution_count": 4,
   "id": "fffd8118-95af-4062-abd8-3510656ccd2f",
   "metadata": {},
   "outputs": [],
   "source": [
    "import math\n",
    "\n",
    "def comb_dis(x):\n",
    "    if abs(x) > 1:\n",
    "        return 1/sqrt(2*math.pi)*math.exp(-1/2*x**2)\n",
    "    else:\n",
    "        return x"
   ]
  },
  {
   "cell_type": "code",
   "execution_count": 5,
   "id": "f006bc6c-72b1-43fc-a9d5-d252a9df055b",
   "metadata": {},
   "outputs": [
    {
     "data": {
      "text/plain": [
       "<seaborn.axisgrid.FacetGrid at 0x1d6e251a0a0>"
      ]
     },
     "execution_count": 5,
     "metadata": {},
     "output_type": "execute_result"
    },
    {
     "data": {
      "image/png": "[encoded data removed]",
      "text/plain": [
       "<Figure size 360x360 with 1 Axes>"
      ]
     },
     "metadata": {
      "needs_background": "light"
     },
     "output_type": "display_data"
    }
   ],
   "source": [
    "sum_of = 0\n",
    "pvalue_list = list()\n",
    "for i in range(100):\n",
    "    data0 = np.random.normal(0, 1, 10000)\n",
    "    data1 = np.random.uniform(-1, 1, 10000)\n",
    "    new_data = list()\n",
    "    for i, elem in enumerate(data0):\n",
    "        if abs(elem) < 1:\n",
    "            new_data.append(data1[i])\n",
    "        else:\n",
    "            new_data.append(data0[i])\n",
    "    \n",
    "    pvalue = stats.normaltest(new_data)\n",
    "    pvalue_list.append(pvalue.pvalue)\n",
    "    sum_of += pvalue.pvalue\n",
    "sum_of/100\n",
    "sb.displot(pvalue_list)"
   ]
  },
  {
   "cell_type": "markdown",
   "id": "c1ba4df1-4b2b-4b9f-a94f-448223940022",
   "metadata": {},
   "source": [
    "<h2>ANDERSON-DARLING b) ii)</h2>"
   ]
  },
  {
   "cell_type": "code",
   "execution_count": 6,
   "id": "06821efe-8436-4447-b535-f405439fa8f8",
   "metadata": {},
   "outputs": [
    {
     "data": {
      "text/plain": [
       "1.9235475493564849"
      ]
     },
     "execution_count": 6,
     "metadata": {},
     "output_type": "execute_result"
    }
   ],
   "source": [
    "#C = 4.49 quantile alpha = 0.05\n",
    "\n",
    "l = 3\n",
    "\n",
    "pvalue_list = list()\n",
    "\n",
    "for i in range(100):\n",
    "    data = np.random.exponential(l, 100)\n",
    "    anderson = stats.anderson(data, 'expon')\n",
    "    pvalue = anderson.statistic\n",
    "    pvalue_list.append(pvalue)\n",
    "#sb.displot(pvalue_list, kind='kde')\n",
    "max(pvalue_list)"
   ]
  },
  {
   "cell_type": "code",
   "execution_count": 7,
   "id": "9c78dbed-3822-40d2-a7cf-23f026268a42",
   "metadata": {},
   "outputs": [
    {
     "data": {
      "text/plain": [
       "(24.155444526255906, 1.6125414232704998)"
      ]
     },
     "execution_count": 7,
     "metadata": {},
     "output_type": "execute_result"
    }
   ],
   "source": [
    "pvalue_list = list()\n",
    "\n",
    "for i in range(100):\n",
    "    data = np.zeros(100)\n",
    "    for k in range(1):\n",
    "        data0 = np.random.normal(0, 1, 100)\n",
    "        data += data0**2\n",
    "    anderson = stats.anderson(data, 'expon')\n",
    "    pvalue = anderson.statistic\n",
    "    pvalue_list.append(pvalue)\n",
    "#sb.displot(pvalue_list, kind='kde')\n",
    "max(pvalue_list), min(pvalue_list)"
   ]
  },
  {
   "cell_type": "markdown",
   "id": "94beb29b-33e1-4dc7-b8db-7f40c8d0be82",
   "metadata": {},
   "source": [
    "<h2>SHAPIRO</h2>"
   ]
  },
  {
   "cell_type": "code",
   "execution_count": 8,
   "id": "12c1b3a2-6416-4b8b-b026-f5aa41fdfc36",
   "metadata": {},
   "outputs": [
    {
     "data": {
      "text/plain": [
       "(0.015992313874566854, 0.0061553532149118744)"
      ]
     },
     "execution_count": 8,
     "metadata": {},
     "output_type": "execute_result"
    }
   ],
   "source": [
    "l = 3\n",
    "\n",
    "n = 100\n",
    "\n",
    "stats_data = list()\n",
    "\n",
    "for i in range(100):\n",
    "    data = np.random.exponential(l, n)\n",
    "    X1 = min(data)\n",
    "    Xm = data.mean()\n",
    "    result = 0\n",
    "    for elem in data:\n",
    "        result += (elem - Xm)**2\n",
    "    res = (n*(Xm - X1)**2)/((n-1)*result)\n",
    "    stats_data.append(res)\n",
    "    \n",
    "#sb.displot(pvalue_list, kind='kde')\n",
    "max(stats_data), min(stats_data)"
   ]
  },
  {
   "cell_type": "code",
   "execution_count": 9,
   "id": "d77524fb-5b68-4a08-9fd5-dee2904a4647",
   "metadata": {},
   "outputs": [
    {
     "data": {
      "text/plain": [
       "(0.00866177546275586, 0.0028741791889637853, 0.005534797577065456)"
      ]
     },
     "execution_count": 9,
     "metadata": {},
     "output_type": "execute_result"
    }
   ],
   "source": [
    "n = 100\n",
    "\n",
    "stats_data = list()\n",
    "\n",
    "for i in range(100):\n",
    "    data = np.zeros(n)\n",
    "    for k in range(1):\n",
    "        data0 = np.random.normal(0, 1, n)\n",
    "        data += data0**2\n",
    "    X1 = min(data)\n",
    "    Xm = data.mean()\n",
    "    result = 0\n",
    "    for elem in data:\n",
    "        result += (elem - Xm)**2\n",
    "    res = (n*(Xm - X1)**2)/((n-1)*result)\n",
    "    stats_data.append(res)\n",
    "stats_data = np.array(stats_data)\n",
    "#sb.displot(pvalue_list, kind='kde')\n",
    "max(stats_data), min(stats_data), stats_data.mean()"
   ]
  },
  {
   "cell_type": "markdown",
   "id": "c82f5a60-657c-4597-8132-b8ac5675b64a",
   "metadata": {},
   "source": [
    "<h1>??</h1>"
   ]
  },
  {
   "cell_type": "code",
   "execution_count": 10,
   "id": "521346b8-343b-4af8-a912-df8748c232d3",
   "metadata": {},
   "outputs": [
    {
     "name": "stderr",
     "output_type": "stream",
     "text": [
      "c:\\users\\nurma\\appdata\\local\\programs\\python\\python38\\lib\\site-packages\\seaborn\\distributions.py:2619: FutureWarning: `distplot` is a deprecated function and will be removed in a future version. Please adapt your code to use either `displot` (a figure-level function with similar flexibility) or `histplot` (an axes-level function for histograms).\n",
      "  warnings.warn(msg, FutureWarning)\n"
     ]
    },
    {
     "data": {
      "text/plain": [
       "<AxesSubplot:ylabel='Density'>"
      ]
     },
     "execution_count": 10,
     "metadata": {},
     "output_type": "execute_result"
    },
    {
     "data": {
      "image/png": "[encoded data removed]",
      "text/plain": [
       "<Figure size 432x288 with 1 Axes>"
      ]
     },
     "metadata": {
      "needs_background": "light"
     },
     "output_type": "display_data"
    }
   ],
   "source": [
    "l = 3\n",
    "\n",
    "n = 1000\n",
    "\n",
    "stats_data = list()\n",
    "\n",
    "for i in range(1000):\n",
    "    data = np.random.exponential(l, n)\n",
    "    stat = stats.normaltest(data).statistic\n",
    "    stats_data.append(stat)\n",
    "    \n",
    "#sb.displot(pvalue_list, kind='kde')\n",
    "sb.distplot(stats_data)"
   ]
  },
  {
   "cell_type": "markdown",
   "id": "9219ec1f-8d96-4b5a-939c-f8ebf8c6ad20",
   "metadata": {},
   "source": [
    "<h1>TASK 1</h1>"
   ]
  },
  {
   "cell_type": "code",
   "execution_count": 11,
   "id": "533e17d2-9010-4365-af3a-e352a521071d",
   "metadata": {},
   "outputs": [
    {
     "data": {
      "text/plain": [
       "[0.0017, 0.0199, 0.1331, 0.3417, 0.3412, 0.1396, 0.0204, 0.0024]"
      ]
     },
     "execution_count": 11,
     "metadata": {},
     "output_type": "execute_result"
    }
   ],
   "source": [
    "pnormal = list()\n",
    "# (-inf, -3), ... .... (3, inf)\n",
    "\n",
    "normal_data = np.random.normal(0, 1, 10000)\n",
    "curr_data = abs(normal_data[normal_data < -3])\n",
    "curr_data = (curr_data > 0).astype('float32')\n",
    "pnormal.append(curr_data.sum()/10000)\n",
    "\n",
    "intervals = [[-3, -2], [-2, -1], [-1, 0], [0, 1], [1, 2], [2, 3]]\n",
    "\n",
    "for elem in intervals:\n",
    "    curr_data = abs(normal_data[(normal_data > elem[0]) & (normal_data < elem[1])])\n",
    "    curr_data = (curr_data > 0).astype('float32')\n",
    "    pnormal.append(curr_data.sum()/10000)\n",
    "curr_data = abs(normal_data[normal_data > 3])\n",
    "curr_data = (curr_data > 0).astype('float32')\n",
    "pnormal.append(curr_data.sum()/10000)\n",
    "pnormal"
   ]
  },
  {
   "cell_type": "markdown",
   "id": "ae74fa66-8b39-4770-a9c1-a255a18481ee",
   "metadata": {},
   "source": [
    "<h1>ДИСКРЕТИЗАЦИЯ</h1>"
   ]
  },
  {
   "cell_type": "code",
   "execution_count": 8,
   "id": "026c238a-220e-460f-8d42-e9c99fc72afc",
   "metadata": {},
   "outputs": [],
   "source": [
    "def func_get_freq_0(data):\n",
    "    p = list()\n",
    "    # (-inf, -3), ... .... (3, inf)\n",
    "    n = len(data)\n",
    "\n",
    "    curr_data = abs(data[data < -3])\n",
    "    curr_data = (curr_data > 0).astype('float32')\n",
    "    p.append(curr_data.sum())\n",
    "\n",
    "    intervals = [[-3, -2], [-2, -1], [-1, 0], [0, 1], [1, 2], [2, 3]]\n",
    "\n",
    "    for elem in intervals:\n",
    "        curr_data = abs(data[(data > elem[0]) & (data < elem[1])])\n",
    "        curr_data = (curr_data > 0).astype('float32')\n",
    "        p.append(curr_data.sum())\n",
    "    curr_data = abs(data[data > 3])\n",
    "    curr_data = (curr_data > 0).astype('float32')\n",
    "    p.append(curr_data.sum())\n",
    "    return p"
   ]
  },
  {
   "cell_type": "code",
   "execution_count": 97,
   "id": "3b354195-aaff-4d98-8649-8b42de2010bd",
   "metadata": {},
   "outputs": [],
   "source": [
    "def func_get_freq_1(data):\n",
    "    p = list()\n",
    "    # (-inf, -3), ... .... (3, inf)\n",
    "    n = len(data)\n",
    "\n",
    "    curr_data = abs(data[data < -1])\n",
    "    curr_data = (curr_data > 0).astype('float32')\n",
    "    p.append(curr_data.sum())\n",
    "\n",
    "    intervals = [[-1, 1]]\n",
    "\n",
    "    for elem in intervals:\n",
    "        curr_data = abs(data[(data > elem[0]) & (data < elem[1])])\n",
    "        curr_data = (curr_data > 0).astype('float32')\n",
    "        p.append(curr_data.sum())\n",
    "    curr_data = abs(data[data > 1])\n",
    "    curr_data = (curr_data > 0).astype('float32')\n",
    "    p.append(curr_data.sum())\n",
    "    return p"
   ]
  },
  {
   "cell_type": "code",
   "execution_count": 111,
   "id": "13b07b05-7baf-4ab3-8a40-ce4ad44a4707",
   "metadata": {},
   "outputs": [
    {
     "data": {
      "text/plain": [
       "array([1566., 6822., 1612.], dtype=float32)"
      ]
     },
     "execution_count": 111,
     "metadata": {},
     "output_type": "execute_result"
    }
   ],
   "source": [
    "pnormal = func_get_freq_1(np.random.normal(0, 1, 10000))\n",
    "np.array(pnormal)"
   ]
  },
  {
   "cell_type": "code",
   "execution_count": 101,
   "id": "784f62e1-d24a-4d1e-b3ff-468edd6ca210",
   "metadata": {},
   "outputs": [],
   "source": [
    "anderson_stats = list()\n",
    "\n",
    "for i in range(1000):\n",
    "    data = np.random.normal(0, 1, 1000)\n",
    "    and_darling = stats.anderson(data, 'norm').statistic\n",
    "    anderson_stats.append(and_darling)\n",
    "anderson_stats = np.array(anderson_stats)"
   ]
  },
  {
   "cell_type": "markdown",
   "id": "d84dbbf9-0150-4cd8-9d50-a41431029591",
   "metadata": {},
   "source": [
    "<h1>LAPLACE CHECK</h1>"
   ]
  },
  {
   "cell_type": "code",
   "execution_count": 50,
   "id": "d7eb1128-992c-4535-a968-66537995919e",
   "metadata": {},
   "outputs": [
    {
     "name": "stderr",
     "output_type": "stream",
     "text": [
      "c:\\users\\nurma\\appdata\\local\\programs\\python\\python38\\lib\\site-packages\\scipy\\stats\\stats.py:6707: RuntimeWarning: divide by zero encountered in true_divide\n",
      "  terms = (f_obs_float - f_exp)**2 / f_exp\n"
     ]
    },
    {
     "data": {
      "text/plain": [
       "0.000999000999000999"
      ]
     },
     "execution_count": 50,
     "metadata": {},
     "output_type": "execute_result"
    },
    {
     "data": {
      "image/png": "[encoded data removed]",
      "text/plain": [
       "<Figure size 360x360 with 1 Axes>"
      ]
     },
     "metadata": {
      "needs_background": "light"
     },
     "output_type": "display_data"
    },
    {
     "data": {
      "image/png": "[encoded data removed]",
      "text/plain": [
       "<Figure size 360x360 with 1 Axes>"
      ]
     },
     "metadata": {
      "needs_background": "light"
     },
     "output_type": "display_data"
    },
    {
     "data": {
      "image/png": "[encoded data removed]",
      "text/plain": [
       "<Figure size 360x360 with 1 Axes>"
      ]
     },
     "metadata": {
      "needs_background": "light"
     },
     "output_type": "display_data"
    },
    {
     "data": {
      "image/png": "[encoded data removed]",
      "text/plain": [
       "<Figure size 360x360 with 1 Axes>"
      ]
     },
     "metadata": {
      "needs_background": "light"
     },
     "output_type": "display_data"
    }
   ],
   "source": [
    "ch_pvalue = list()\n",
    "kv_pvalue = list()\n",
    "cramer_pvalue = list()\n",
    "and_darling_pvalue = list()\n",
    "\n",
    "mu = 0\n",
    "sigma = 1\n",
    "\n",
    "pnormal = func_get_freq_1(np.random.normal(0, 1, 1000))\n",
    "\n",
    "for i in range(100):\n",
    "    data = np.random.laplace(mu, sigma, 1000)\n",
    "    p_curr = func_get_freq_1(data)\n",
    "    \n",
    "    chisquare = stats.chisquare(p_curr, pnormal).pvalue\n",
    "    \n",
    "    kv = stats.kstest(data, stats.norm(mu, sigma).cdf).pvalue\n",
    "    cramer = stats.cramervonmises(data, stats.norm(mu, sigma).cdf).pvalue\n",
    "    and_darling = stats.anderson(data, 'norm').statistic\n",
    "    ch_pvalue.append(chisquare)\n",
    "    kv_pvalue.append(kv)\n",
    "    cramer_pvalue.append(cramer)\n",
    "    \n",
    "    m = (anderson_stats > and_darling).astype('int').sum()\n",
    "    \n",
    "    and_darling_pvalue.append((m+1)/1001)\n",
    "    \n",
    "#fig, ax = plt.subplots(4, 2, figsize=(20, 10))\n",
    "\n",
    "for j, p_data in enumerate([ch_pvalue, kv_pvalue, cramer_pvalue, and_darling_pvalue]):\n",
    "    p_data = np.array(p_data)\n",
    "    \n",
    "    sb.displot(p_data)\n",
    "np.array(and_darling_pvalue).mean()"
   ]
  },
  {
   "cell_type": "markdown",
   "id": "47176f58-e1ec-46e8-91f7-556fe826e464",
   "metadata": {},
   "source": [
    "<h1>NORMAL CHECK</h1>"
   ]
  },
  {
   "cell_type": "code",
   "execution_count": 112,
   "id": "e0d73049-1300-48e7-83e2-f799512eeaac",
   "metadata": {},
   "outputs": [
    {
     "data": {
      "text/plain": [
       "0.48582517482517484"
      ]
     },
     "execution_count": 112,
     "metadata": {},
     "output_type": "execute_result"
    },
    {
     "data": {
      "image/png": "[encoded data removed]",
      "text/plain": [
       "<Figure size 360x360 with 1 Axes>"
      ]
     },
     "metadata": {
      "needs_background": "light"
     },
     "output_type": "display_data"
    },
    {
     "data": {
      "image/png": "[encoded data removed]",
      "text/plain": [
       "<Figure size 360x360 with 1 Axes>"
      ]
     },
     "metadata": {
      "needs_background": "light"
     },
     "output_type": "display_data"
    },
    {
     "data": {
      "image/png": "[encoded data removed]",
      "text/plain": [
       "<Figure size 360x360 with 1 Axes>"
      ]
     },
     "metadata": {
      "needs_background": "light"
     },
     "output_type": "display_data"
    },
    {
     "data": {
      "image/png": "[encoded data removed]",
      "text/plain": [
       "<Figure size 360x360 with 1 Axes>"
      ]
     },
     "metadata": {
      "needs_background": "light"
     },
     "output_type": "display_data"
    }
   ],
   "source": [
    "ch_pvalue = list()\n",
    "kv_pvalue = list()\n",
    "cramer_pvalue = list()\n",
    "and_darling_pvalue = list()\n",
    "\n",
    "mu = 0\n",
    "sigma = 1\n",
    "\n",
    "pnormal = func_get_freq_1(np.random.normal(0, 1, 10000))\n",
    "\n",
    "for i in range(1000):\n",
    "    data = np.random.normal(0, 1, 10000)\n",
    "    \n",
    "    p_curr = func_get_freq_1(data)\n",
    "    \n",
    "    chisquare = stats.chisquare(p_curr, pnormal).pvalue\n",
    "    \n",
    "    kv = stats.kstest(data, stats.norm(mu, sigma).cdf).pvalue\n",
    "    cramer = stats.cramervonmises(data, stats.norm(mu, sigma).cdf).pvalue\n",
    "    and_darling = stats.anderson(data, 'norm').statistic\n",
    "    ch_pvalue.append(chisquare)\n",
    "    kv_pvalue.append(kv)\n",
    "    cramer_pvalue.append(cramer)\n",
    "    \n",
    "    m = (anderson_stats > and_darling).astype('int').sum()\n",
    "    \n",
    "    and_darling_pvalue.append((m+1)/1001)\n",
    "    \n",
    "#fig, ax = plt.subplots(4, 2, figsize=(20, 10))\n",
    "\n",
    "for j, p_data in enumerate([ch_pvalue, kv_pvalue, cramer_pvalue, and_darling_pvalue]):\n",
    "    p_data = np.array(p_data)\n",
    "    \n",
    "    \n",
    "    count, bins_count = np.histogram(p_data, bins=20)\n",
    "    \n",
    "    # finding the PDF of the histogram using count values\n",
    "    pdf = count / sum(count)\n",
    "\n",
    "    # using numpy np.cumsum to calculate the CDF\n",
    "    # We can also find using the PDF values by looping and adding\n",
    "    cdf = np.cumsum(pdf)\n",
    "    \n",
    "    #ax[j, 0].plot(bins_count[1:], pdf, color=\"red\", label=\"PDF\")\n",
    "    #ax[j, 0].plot(bins_count[1:], cdf, label=\"CDF\")\n",
    "    #ax[j, 1].hist(p_data, bins=20)\n",
    "    #ax[j, 0].legend()\n",
    "    sb.displot(p_data)\n",
    "np.array(and_darling_pvalue).mean()"
   ]
  },
  {
   "cell_type": "markdown",
   "id": "1b92e1de-4daf-416e-a8a5-0da32498c978",
   "metadata": {},
   "source": [
    "<h1>UNIFORM AND NORMAL</h1>"
   ]
  },
  {
   "cell_type": "code",
   "execution_count": 51,
   "id": "f61a2a1e-a55e-4332-9fe3-c923e50f779b",
   "metadata": {},
   "outputs": [
    {
     "data": {
      "text/plain": [
       "0.07143156843156842"
      ]
     },
     "execution_count": 51,
     "metadata": {},
     "output_type": "execute_result"
    },
    {
     "data": {
      "image/png": "[encoded data removed]",
      "text/plain": [
       "<Figure size 360x360 with 1 Axes>"
      ]
     },
     "metadata": {
      "needs_background": "light"
     },
     "output_type": "display_data"
    },
    {
     "data": {
      "image/png": "[encoded data removed]",
      "text/plain": [
       "<Figure size 360x360 with 1 Axes>"
      ]
     },
     "metadata": {
      "needs_background": "light"
     },
     "output_type": "display_data"
    },
    {
     "data": {
      "image/png": "[encoded data removed]",
      "text/plain": [
       "<Figure size 360x360 with 1 Axes>"
      ]
     },
     "metadata": {
      "needs_background": "light"
     },
     "output_type": "display_data"
    },
    {
     "data": {
      "image/png": "[encoded data removed]",
      "text/plain": [
       "<Figure size 360x360 with 1 Axes>"
      ]
     },
     "metadata": {
      "needs_background": "light"
     },
     "output_type": "display_data"
    }
   ],
   "source": [
    "ch_pvalue = list()\n",
    "kv_pvalue = list()\n",
    "cramer_pvalue = list()\n",
    "and_darling_pvalue = list()\n",
    "\n",
    "mu = 0\n",
    "sigma = 1\n",
    "\n",
    "pnormal = func_get_freq(np.random.normal(0, 1, 1000))\n",
    "\n",
    "for i in range(1000):\n",
    "    data = np.random.normal(0, 1, 1000)\n",
    "    data1 = np.random.uniform(-1, 1, 1000)\n",
    "    \n",
    "    for i in range(len(data)):\n",
    "        if abs(data[i]) < 1:\n",
    "            data[i] = data1[i]  \n",
    "    \n",
    "    p_curr = func_get_freq(data)\n",
    "    \n",
    "    chisquare = stats.chisquare(p_curr, pnormal).pvalue\n",
    "    \n",
    "    kv = stats.kstest(data, stats.norm(mu, sigma).cdf).pvalue\n",
    "    cramer = stats.cramervonmises(data, stats.norm(mu, sigma).cdf).pvalue\n",
    "    and_darling = stats.anderson(data, 'norm').statistic\n",
    "    ch_pvalue.append(chisquare)\n",
    "    kv_pvalue.append(kv)\n",
    "    cramer_pvalue.append(cramer)\n",
    "    \n",
    "    m = (anderson_stats > and_darling).astype('int').sum()\n",
    "    \n",
    "    and_darling_pvalue.append((m+1)/1001)\n",
    "    \n",
    "#fig, ax = plt.subplots(4, 2, figsize=(20, 10))\n",
    "\n",
    "for j, p_data in enumerate([ch_pvalue, kv_pvalue, cramer_pvalue, and_darling_pvalue]):\n",
    "    p_data = np.array(p_data)\n",
    "    \n",
    "    \n",
    "    count, bins_count = np.histogram(p_data, bins=20)\n",
    "    \n",
    "    # finding the PDF of the histogram using count values\n",
    "    pdf = count / sum(count)\n",
    "\n",
    "    # using numpy np.cumsum to calculate the CDF\n",
    "    # We can also find using the PDF values by looping and adding\n",
    "    cdf = np.cumsum(pdf)\n",
    "    \n",
    "    #ax[j, 0].plot(bins_count[1:], pdf, color=\"red\", label=\"PDF\")\n",
    "    #ax[j, 0].plot(bins_count[1:], cdf, label=\"CDF\")\n",
    "    #ax[j, 1].hist(p_data, bins=20)\n",
    "    #ax[j, 0].legend()\n",
    "    sb.displot(p_data)\n",
    "np.array(and_darling_pvalue).mean()"
   ]
  },
  {
   "cell_type": "markdown",
   "id": "b10bb846-73ba-4955-bcc6-b171ec819321",
   "metadata": {},
   "source": [
    "<h1>STUDENT </h1>"
   ]
  },
  {
   "cell_type": "code",
   "execution_count": 52,
   "id": "04db0a16-be87-4496-800f-e55e97870313",
   "metadata": {},
   "outputs": [
    {
     "name": "stderr",
     "output_type": "stream",
     "text": [
      "c:\\users\\nurma\\appdata\\local\\programs\\python\\python38\\lib\\site-packages\\scipy\\stats\\stats.py:6707: RuntimeWarning: divide by zero encountered in true_divide\n",
      "  terms = (f_obs_float - f_exp)**2 / f_exp\n",
      "c:\\users\\nurma\\appdata\\local\\programs\\python\\python38\\lib\\site-packages\\scipy\\stats\\stats.py:6707: RuntimeWarning: invalid value encountered in true_divide\n",
      "  terms = (f_obs_float - f_exp)**2 / f_exp\n"
     ]
    },
    {
     "data": {
      "text/plain": [
       "0.18528471528471527"
      ]
     },
     "execution_count": 52,
     "metadata": {},
     "output_type": "execute_result"
    },
    {
     "data": {
      "image/png": "[encoded data removed]",
      "text/plain": [
       "<Figure size 360x360 with 1 Axes>"
      ]
     },
     "metadata": {
      "needs_background": "light"
     },
     "output_type": "display_data"
    },
    {
     "data": {
      "image/png": "[encoded data removed]",
      "text/plain": [
       "<Figure size 360x360 with 1 Axes>"
      ]
     },
     "metadata": {
      "needs_background": "light"
     },
     "output_type": "display_data"
    },
    {
     "data": {
      "image/png": "[encoded data removed]",
      "text/plain": [
       "<Figure size 360x360 with 1 Axes>"
      ]
     },
     "metadata": {
      "needs_background": "light"
     },
     "output_type": "display_data"
    },
    {
     "data": {
      "image/png": "[encoded data removed]",
      "text/plain": [
       "<Figure size 360x360 with 1 Axes>"
      ]
     },
     "metadata": {
      "needs_background": "light"
     },
     "output_type": "display_data"
    }
   ],
   "source": [
    "ch_pvalue = list()\n",
    "kv_pvalue = list()\n",
    "cramer_pvalue = list()\n",
    "and_darling_pvalue = list()\n",
    "\n",
    "mu = 0\n",
    "sigma = 1\n",
    "\n",
    "n = 100\n",
    "\n",
    "pnormal = func_get_freq(np.random.normal(0, 1, n))\n",
    "\n",
    "for i in range(1000):\n",
    "    data = np.random.standard_t(5, n)\n",
    "    p_curr = func_get_freq(data)\n",
    "    \n",
    "    chisquare = stats.chisquare(p_curr, pnormal).pvalue\n",
    "    \n",
    "    kv = stats.kstest(data, stats.norm(mu, sigma).cdf).pvalue\n",
    "    cramer = stats.cramervonmises(data, stats.norm(mu, sigma).cdf).pvalue\n",
    "    and_darling = stats.anderson(data, 'norm').statistic\n",
    "    ch_pvalue.append(chisquare)\n",
    "    kv_pvalue.append(kv)\n",
    "    cramer_pvalue.append(cramer)\n",
    "    \n",
    "    m = (anderson_stats > and_darling).astype('int').sum()\n",
    "    \n",
    "    and_darling_pvalue.append((m+1)/1001)\n",
    "    \n",
    "#fig, ax = plt.subplots(4, 2, figsize=(20, 10))\n",
    "\n",
    "for j, p_data in enumerate([ch_pvalue, kv_pvalue, cramer_pvalue, and_darling_pvalue]):\n",
    "    p_data = np.array(p_data)\n",
    "    \n",
    "    #ax[j, 0].plot(bins_count[1:], pdf, color=\"red\", label=\"PDF\")\n",
    "    #ax[j, 0].plot(bins_count[1:], cdf, label=\"CDF\")\n",
    "    #ax[j, 1].hist(p_data, bins=20)\n",
    "    #ax[j, 0].legend()\n",
    "    sb.displot(p_data)\n",
    "np.array(and_darling_pvalue).mean()"
   ]
  },
  {
   "cell_type": "markdown",
   "id": "ef3ccdd7-6ba1-47df-aaa4-a1881ebb5da5",
   "metadata": {},
   "source": [
    "<h1>TASK 2 KOLMOGOROV</h1>"
   ]
  },
  {
   "cell_type": "code",
   "execution_count": 18,
   "id": "a3efdfb8-f167-4483-8b47-7793f71b6ca9",
   "metadata": {},
   "outputs": [
    {
     "data": {
      "text/plain": [
       "<seaborn.axisgrid.FacetGrid at 0x1d6a793b220>"
      ]
     },
     "execution_count": 18,
     "metadata": {},
     "output_type": "execute_result"
    },
    {
     "data": {
      "image/png": "[encoded data removed]",
      "text/plain": [
       "<Figure size 360x360 with 1 Axes>"
      ]
     },
     "metadata": {
      "needs_background": "light"
     },
     "output_type": "display_data"
    }
   ],
   "source": [
    "mu = 5\n",
    "sigma = 3\n",
    "\n",
    "pvalue_list = list()\n",
    "\n",
    "for i in range(100):\n",
    "    data = np.random.normal(mu, sigma, 1000)\n",
    "    kstest = stats.kstest(data, stats.norm(mu, sigma).cdf)\n",
    "    pvalue_list.append(kstest.pvalue)\n",
    "    \n",
    "sb.displot(pvalue_list)"
   ]
  },
  {
   "cell_type": "markdown",
   "id": "53d80f66-f12f-420a-9536-0c36ddff47c9",
   "metadata": {},
   "source": [
    "<h1>TASK 2 LILLIFORD</h1>"
   ]
  },
  {
   "cell_type": "code",
   "execution_count": 19,
   "id": "ede7f564-ea45-4075-8cff-054ac361f92f",
   "metadata": {},
   "outputs": [
    {
     "data": {
      "text/plain": [
       "<seaborn.axisgrid.FacetGrid at 0x1d6a773c9d0>"
      ]
     },
     "execution_count": 19,
     "metadata": {},
     "output_type": "execute_result"
    },
    {
     "data": {
      "image/png": "[encoded data removed]",
      "text/plain": [
       "<Figure size 360x360 with 1 Axes>"
      ]
     },
     "metadata": {
      "needs_background": "light"
     },
     "output_type": "display_data"
    }
   ],
   "source": [
    "from statsmodels.stats.diagnostic import lilliefors\n",
    "\n",
    "mu = 5\n",
    "sigma = 3\n",
    "\n",
    "pvalue_list = list()\n",
    "\n",
    "for i in range(100):\n",
    "    data = np.random.normal(mu, sigma, 1000)\n",
    "    lftest = lilliefors(data, 'norm')\n",
    "    pvalue_list.append(lftest[1])\n",
    "    \n",
    "sb.displot(pvalue_list)"
   ]
  },
  {
   "cell_type": "code",
   "execution_count": null,
   "id": "01727d99-dcba-49e0-a398-0ba2539a8a4c",
   "metadata": {},
   "outputs": [],
   "source": []
  }
 ],
 "metadata": {
  "kernelspec": {
   "display_name": "Python 3 (ipykernel)",
   "language": "python",
   "name": "python3"
  },
  "language_info": {
   "codemirror_mode": {
    "name": "ipython",
    "version": 3
   },
   "file_extension": ".py",
   "mimetype": "text/x-python",
   "name": "python",
   "nbconvert_exporter": "python",
   "pygments_lexer": "ipython3",
   "version": "3.8.9"
  }
 },
 "nbformat": 4,
 "nbformat_minor": 5
}
