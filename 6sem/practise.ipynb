{
 "cells": [
  {
   "cell_type": "markdown",
   "id": "ee17f648-848d-422b-9c79-c4bc69a42fde",
   "metadata": {},
   "source": [
    "<h1>PRACTISE</h1>"
   ]
  },
  {
   "cell_type": "code",
   "execution_count": 1,
   "id": "66090a15-72b5-4496-8a4b-4f8aacee9ea1",
   "metadata": {},
   "outputs": [],
   "source": [
    "import numpy as np\n",
    "import seaborn as sb\n",
    "import matplotlib.pyplot as plt\n",
    "from scipy import stats\n",
    "import pandas as pd\n",
    "import math\n",
    "from sklearn import linear_model\n",
    "import sklearn\n",
    "import scipy"
   ]
  },
  {
   "cell_type": "code",
   "execution_count": 2,
   "id": "a79491d5-a755-455d-abd0-367359112c61",
   "metadata": {},
   "outputs": [],
   "source": [
    "import numpy as np\n",
    "import pandas as pd\n",
    "import seaborn as sns\n",
    "import statsmodels.api as sm\n",
    "import matplotlib.pyplot as plt\n",
    "from statsmodels.graphics.gofplots import ProbPlot\n",
    "plt.style.use('seaborn') # pretty matplotlib plots\n",
    "plt.rc('font', size=14)\n",
    "plt.rc('figure', titlesize=18)\n",
    "plt.rc('axes', labelsize=15)\n",
    "plt.rc('axes', titlesize=18)"
   ]
  },
  {
   "cell_type": "code",
   "execution_count": 3,
   "id": "ff1390af-a495-4c8f-b12c-66707c448487",
   "metadata": {},
   "outputs": [],
   "source": [
    "train = pd.read_csv('titanic-train.csv')\n",
    "test = pd.read_csv('titanic-test.csv')"
   ]
  },
  {
   "cell_type": "code",
   "execution_count": 4,
   "id": "d277c89f-139b-4cd7-8ecf-94657bf07eab",
   "metadata": {},
   "outputs": [],
   "source": [
    "sex = np.array(train['Sex'])\n",
    "sex[sex == 'male'] = 0\n",
    "sex[sex == 'female'] = 1\n",
    "parch = np.array(train['Parch'])\n",
    "sibsp = np.array(train['SibSp'])"
   ]
  },
  {
   "cell_type": "code",
   "execution_count": 5,
   "id": "a6a45e5d-42d9-4768-87f7-5268d7b5e139",
   "metadata": {},
   "outputs": [],
   "source": [
    "train_x = np.array([sex, parch, sibsp]).T\n",
    "train_y = np.array(train['Survived'])"
   ]
  },
  {
   "cell_type": "code",
   "execution_count": 6,
   "id": "c52d62ba-77e8-46c2-8e41-1cc1063954b2",
   "metadata": {},
   "outputs": [],
   "source": [
    "test_x = np.array(test['PassengerId'])\n",
    "#test_y = np.array(test['Survived'])\n",
    "test_y = np.ones(len(test_x))"
   ]
  },
  {
   "cell_type": "code",
   "execution_count": 7,
   "id": "0c6d6660-ad26-42d0-a302-ed46e5960e99",
   "metadata": {},
   "outputs": [],
   "source": [
    "Liner = sklearn.linear_model.LogisticRegression().fit(train_x, train_y)"
   ]
  },
  {
   "cell_type": "code",
   "execution_count": 8,
   "id": "6d61a6a8-3e8e-451d-afe4-e04c9546892d",
   "metadata": {},
   "outputs": [
    {
     "data": {
      "text/plain": [
       "0.7912457912457912"
      ]
     },
     "execution_count": 8,
     "metadata": {},
     "output_type": "execute_result"
    }
   ],
   "source": [
    "(Liner.predict(train_x) == train_y).mean()"
   ]
  },
  {
   "cell_type": "code",
   "execution_count": 9,
   "id": "2e6f9fb5-eb51-4e6e-9c30-6f5f9292f0a7",
   "metadata": {},
   "outputs": [
    {
     "data": {
      "text/plain": [
       "0.6161616161616161"
      ]
     },
     "execution_count": 9,
     "metadata": {},
     "output_type": "execute_result"
    }
   ],
   "source": [
    "(np.zeros(len(train_y)) == train_y).mean()"
   ]
  },
  {
   "cell_type": "markdown",
   "id": "d0fc8a78-98b4-4e54-a4cc-73d52995f51b",
   "metadata": {},
   "source": [
    "<h1>TASK 2</h1>"
   ]
  },
  {
   "cell_type": "code",
   "execution_count": 10,
   "id": "08d2619d-372c-4be1-8071-37b2b4dbbf69",
   "metadata": {},
   "outputs": [],
   "source": [
    "data = list()\n",
    "with open('earinf.txt') as f:\n",
    "    for line in f:\n",
    "        line = line.replace('\\t', ' ').replace('\\n', '').split(' ')\n",
    "        data.append(line)"
   ]
  },
  {
   "cell_type": "code",
   "execution_count": 11,
   "id": "e833077b-7681-42df-a095-5ae20887508d",
   "metadata": {},
   "outputs": [
    {
     "data": {
      "text/plain": [
       "array([['Occas', 'NonBeach', '15-19', 'Male', '0'],\n",
       "       ['Occas', 'NonBeach', '15-19', 'Male', '0'],\n",
       "       ['Occas', 'NonBeach', '15-19', 'Male', '0'],\n",
       "       ['Occas', 'NonBeach', '15-19', 'Male', '0']], dtype='<U8')"
      ]
     },
     "execution_count": 11,
     "metadata": {},
     "output_type": "execute_result"
    }
   ],
   "source": [
    "data = np.array(data[1:])\n",
    "data[:4]"
   ]
  },
  {
   "cell_type": "code",
   "execution_count": 12,
   "id": "1e9d4955-8f56-4b4f-bb3a-8461b04e9d7f",
   "metadata": {},
   "outputs": [],
   "source": [
    "data[data=='Occas'] = 0\n",
    "data[data=='Freq']  = 1\n",
    "data[data=='NonBeach'] = 0\n",
    "data[data=='Beach'] = 1\n",
    "data[data=='Male'] = 0\n",
    "data[data=='Female'] = 1"
   ]
  },
  {
   "cell_type": "code",
   "execution_count": 13,
   "id": "0f89a806-42e6-4367-8b0f-91317d379ece",
   "metadata": {},
   "outputs": [],
   "source": [
    "for i, age in enumerate(np.unique(data[:, 2])):\n",
    "    data[data==age] = i"
   ]
  },
  {
   "cell_type": "code",
   "execution_count": 14,
   "id": "7e19c9ad-7d58-4058-ab44-c1cee108163e",
   "metadata": {},
   "outputs": [],
   "source": [
    "for i, row in enumerate(data):\n",
    "    data[i] = list(map(float, data[i]))"
   ]
  },
  {
   "cell_type": "code",
   "execution_count": 15,
   "id": "c34ae9f5-e82a-43d8-8371-db4d2df0feb2",
   "metadata": {},
   "outputs": [],
   "source": [
    "data = data.astype('float32')"
   ]
  },
  {
   "cell_type": "code",
   "execution_count": 16,
   "id": "2ef0427c-86ce-4105-b3f2-91c3ef48b731",
   "metadata": {},
   "outputs": [],
   "source": [
    "X = sm.add_constant(data[:, :-1])\n",
    "y = data[:, -1]"
   ]
  },
  {
   "cell_type": "code",
   "execution_count": 17,
   "id": "c1736a3f-c7ed-44a7-861b-128605128ad9",
   "metadata": {},
   "outputs": [],
   "source": [
    "Liner = sklearn.linear_model.PoissonRegressor().fit(X, y)"
   ]
  },
  {
   "cell_type": "code",
   "execution_count": 18,
   "id": "07b43ee4-8c58-4fe5-b267-f0e2de5ec2bb",
   "metadata": {},
   "outputs": [
    {
     "data": {
      "text/plain": [
       "array([ 4.99701057e-06, -1.51778295e-01, -1.23572839e-01, -6.98285964e-02,\n",
       "       -9.43289645e-03])"
      ]
     },
     "execution_count": 18,
     "metadata": {},
     "output_type": "execute_result"
    }
   ],
   "source": [
    "Liner.coef_"
   ]
  },
  {
   "cell_type": "code",
   "execution_count": 19,
   "id": "b59de535-48ba-4251-b2da-f07e1599e2ca",
   "metadata": {},
   "outputs": [],
   "source": [
    "poisson_model = sm.GLM(y, X, family=sm.families.Poisson())"
   ]
  },
  {
   "cell_type": "code",
   "execution_count": 20,
   "id": "abaa8015-1994-43c0-a715-ac8279b38f6d",
   "metadata": {},
   "outputs": [],
   "source": [
    "fit_result = poisson_model.fit()"
   ]
  },
  {
   "cell_type": "code",
   "execution_count": 21,
   "id": "20bfcfb7-f119-4237-8f5b-6238dfd69c8b",
   "metadata": {},
   "outputs": [
    {
     "data": {
      "text/html": [
       "<table class=\"simpletable\">\n",
       "<caption>Generalized Linear Model Regression Results</caption>\n",
       "<tr>\n",
       "  <th>Dep. Variable:</th>           <td>y</td>        <th>  No. Observations:  </th>  <td>   287</td> \n",
       "</tr>\n",
       "<tr>\n",
       "  <th>Model:</th>                  <td>GLM</td>       <th>  Df Residuals:      </th>  <td>   282</td> \n",
       "</tr>\n",
       "<tr>\n",
       "  <th>Model Family:</th>         <td>Poisson</td>     <th>  Df Model:          </th>  <td>     4</td> \n",
       "</tr>\n",
       "<tr>\n",
       "  <th>Link Function:</th>          <td>Log</td>       <th>  Scale:             </th> <td>  1.0000</td>\n",
       "</tr>\n",
       "<tr>\n",
       "  <th>Method:</th>                <td>IRLS</td>       <th>  Log-Likelihood:    </th> <td> -566.43</td>\n",
       "</tr>\n",
       "<tr>\n",
       "  <th>Date:</th>            <td>Mon, 11 Apr 2022</td> <th>  Deviance:          </th> <td>  760.46</td>\n",
       "</tr>\n",
       "<tr>\n",
       "  <th>Time:</th>                <td>19:50:16</td>     <th>  Pearson chi2:      </th>  <td>  954.</td> \n",
       "</tr>\n",
       "<tr>\n",
       "  <th>No. Iterations:</th>          <td>5</td>        <th>  Pseudo R-squ. (CS):</th>  <td>0.2000</td> \n",
       "</tr>\n",
       "<tr>\n",
       "  <th>Covariance Type:</th>     <td>nonrobust</td>    <th>                     </th>     <td> </td>   \n",
       "</tr>\n",
       "</table>\n",
       "<table class=\"simpletable\">\n",
       "<tr>\n",
       "    <td></td>       <th>coef</th>     <th>std err</th>      <th>z</th>      <th>P>|z|</th>  <th>[0.025</th>    <th>0.975]</th>  \n",
       "</tr>\n",
       "<tr>\n",
       "  <th>const</th> <td>    0.8900</td> <td>    0.087</td> <td>   10.220</td> <td> 0.000</td> <td>    0.719</td> <td>    1.061</td>\n",
       "</tr>\n",
       "<tr>\n",
       "  <th>x1</th>    <td>   -0.6134</td> <td>    0.105</td> <td>   -5.842</td> <td> 0.000</td> <td>   -0.819</td> <td>   -0.408</td>\n",
       "</tr>\n",
       "<tr>\n",
       "  <th>x2</th>    <td>   -0.4914</td> <td>    0.105</td> <td>   -4.689</td> <td> 0.000</td> <td>   -0.697</td> <td>   -0.286</td>\n",
       "</tr>\n",
       "<tr>\n",
       "  <th>x3</th>    <td>   -0.1328</td> <td>    0.066</td> <td>   -2.024</td> <td> 0.043</td> <td>   -0.261</td> <td>   -0.004</td>\n",
       "</tr>\n",
       "<tr>\n",
       "  <th>x4</th>    <td>    0.0324</td> <td>    0.109</td> <td>    0.296</td> <td> 0.767</td> <td>   -0.182</td> <td>    0.247</td>\n",
       "</tr>\n",
       "</table>"
      ],
      "text/plain": [
       "<class 'statsmodels.iolib.summary.Summary'>\n",
       "\"\"\"\n",
       "                 Generalized Linear Model Regression Results                  \n",
       "==============================================================================\n",
       "Dep. Variable:                      y   No. Observations:                  287\n",
       "Model:                            GLM   Df Residuals:                      282\n",
       "Model Family:                 Poisson   Df Model:                            4\n",
       "Link Function:                    Log   Scale:                          1.0000\n",
       "Method:                          IRLS   Log-Likelihood:                -566.43\n",
       "Date:                Mon, 11 Apr 2022   Deviance:                       760.46\n",
       "Time:                        19:50:16   Pearson chi2:                     954.\n",
       "No. Iterations:                     5   Pseudo R-squ. (CS):             0.2000\n",
       "Covariance Type:            nonrobust                                         \n",
       "==============================================================================\n",
       "                 coef    std err          z      P>|z|      [0.025      0.975]\n",
       "------------------------------------------------------------------------------\n",
       "const          0.8900      0.087     10.220      0.000       0.719       1.061\n",
       "x1            -0.6134      0.105     -5.842      0.000      -0.819      -0.408\n",
       "x2            -0.4914      0.105     -4.689      0.000      -0.697      -0.286\n",
       "x3            -0.1328      0.066     -2.024      0.043      -0.261      -0.004\n",
       "x4             0.0324      0.109      0.296      0.767      -0.182       0.247\n",
       "==============================================================================\n",
       "\"\"\""
      ]
     },
     "execution_count": 21,
     "metadata": {},
     "output_type": "execute_result"
    }
   ],
   "source": [
    "fit_result.summary()"
   ]
  },
  {
   "cell_type": "code",
   "execution_count": 22,
   "id": "da7efc93-606f-4a19-bdb6-4130ae5bc3ab",
   "metadata": {},
   "outputs": [
    {
     "data": {
      "text/plain": [
       "array([ 4.99701057e-06, -1.51778295e-01, -1.23572839e-01, -6.98285964e-02,\n",
       "       -9.43289645e-03])"
      ]
     },
     "execution_count": 22,
     "metadata": {},
     "output_type": "execute_result"
    }
   ],
   "source": [
    "Liner.coef_"
   ]
  },
  {
   "cell_type": "markdown",
   "id": "c679d4b8-65fe-4130-a40e-a05982aaea31",
   "metadata": {},
   "source": [
    "<h1>TASK 3</h1>"
   ]
  },
  {
   "cell_type": "code",
   "execution_count": 23,
   "id": "56266502-b376-485c-908c-a6f6ad45a1f8",
   "metadata": {},
   "outputs": [],
   "source": [
    "data0 = list()\n",
    "\n",
    "with open('spills.txt') as f:\n",
    "    for line in f:\n",
    "        line = line.replace('\\t', ' ').replace('\\n', '').split(' ')\n",
    "        data0.append(line)\n",
    "data = np.array(data0[1:]).astype('float32')"
   ]
  },
  {
   "cell_type": "code",
   "execution_count": 24,
   "id": "eb169350-5245-480d-8983-72651ee77c69",
   "metadata": {},
   "outputs": [
    {
     "data": {
      "text/plain": [
       "[['Year', 'Spills', 'Oil'],\n",
       " ['1973', '36', '84.5'],\n",
       " ['1974', '48', '67.1'],\n",
       " ['1975', '45', '188.0'],\n",
       " ['1976', '29', '204.2'],\n",
       " ['1977', '49', '213.1'],\n",
       " ['1978', '35', '260.5'],\n",
       " ['1979', '65', '723.5'],\n",
       " ['1980', '32', '135.6'],\n",
       " ['1981', '33', '45.3'],\n",
       " ['1982', '9', '1.7'],\n",
       " ['1983', '17', '387.8'],\n",
       " ['1984', '15', '24.2'],\n",
       " ['1985', '8', '15.0']]"
      ]
     },
     "execution_count": 24,
     "metadata": {},
     "output_type": "execute_result"
    }
   ],
   "source": [
    "data0"
   ]
  },
  {
   "cell_type": "code",
   "execution_count": 25,
   "id": "520241fd-7c2f-47b1-a156-831fdde9aa56",
   "metadata": {},
   "outputs": [],
   "source": [
    "X_ = data[:, 1, None]\n",
    "y_ = data[:, 2]"
   ]
  },
  {
   "cell_type": "code",
   "execution_count": 26,
   "id": "ebf93ec5-da5b-46a1-974a-caf20265b3e9",
   "metadata": {},
   "outputs": [
    {
     "data": {
      "text/plain": [
       "<matplotlib.collections.PathCollection at 0x245a1d195b0>"
      ]
     },
     "execution_count": 26,
     "metadata": {},
     "output_type": "execute_result"
    },
    {
     "data": {
      "image/png": "[encoded data removed]",
      "text/plain": [
       "<Figure size 576x396 with 1 Axes>"
      ]
     },
     "metadata": {},
     "output_type": "display_data"
    }
   ],
   "source": [
    "Liner = sklearn.linear_model.LinearRegression().fit(X_, y_)\n",
    "\n",
    "y_new = X_[:, 0]*Liner.coef_ + Liner.intercept_\n",
    "\n",
    "plt.plot(X_[:, 0], y_new)\n",
    "plt.scatter(X_[:, 0], y_)"
   ]
  },
  {
   "cell_type": "code",
   "execution_count": 27,
   "id": "570e56ce-e31e-43c6-984f-fc3a24795782",
   "metadata": {},
   "outputs": [],
   "source": [
    "w = np.ones(len(X_))\n",
    "\n",
    "def min_func(ab):\n",
    "    result = w*(y_ - ab[0]*X_ - ab[1])**2\n",
    "    \n",
    "    return result.mean()"
   ]
  },
  {
   "cell_type": "code",
   "execution_count": 28,
   "id": "9dfa62fc-b9da-45aa-b9b1-0a1372acdf52",
   "metadata": {},
   "outputs": [
    {
     "name": "stderr",
     "output_type": "stream",
     "text": [
      "C:\\Users\\nurma\\AppData\\Local\\Temp/ipykernel_15404/1227830240.py:4: RuntimeWarning: divide by zero encountered in true_divide\n",
      "  w = 1 / abs(y_ - ab[0]*X_ - ab[1])\n",
      "c:\\users\\nurma\\appdata\\local\\programs\\python\\python38\\lib\\site-packages\\scipy\\optimize\\optimize.py:2214: RuntimeWarning: invalid value encountered in float_scalars\n",
      "  tmp1 = (x - w) * (fx - fv)\n",
      "c:\\users\\nurma\\appdata\\local\\programs\\python\\python38\\lib\\site-packages\\scipy\\optimize\\optimize.py:2215: RuntimeWarning: invalid value encountered in float_scalars\n",
      "  tmp2 = (x - v) * (fx - fw)\n",
      "c:\\users\\nurma\\appdata\\local\\programs\\python\\python38\\lib\\site-packages\\scipy\\optimize\\optimize.py:3036: RuntimeWarning: invalid value encountered in float_scalars\n",
      "  if (fx2 - fval) > delta:\n",
      "c:\\users\\nurma\\appdata\\local\\programs\\python\\python38\\lib\\site-packages\\scipy\\optimize\\optimize.py:3045: RuntimeWarning: invalid value encountered in float_scalars\n",
      "  if 2.0 * (fx - fval) <= bnd:\n"
     ]
    }
   ],
   "source": [
    "for i in range(100):\n",
    "    min_res = scipy.optimize.minimize(min_func, [0., 0.], method='Powell')\n",
    "    ab = min_res.x\n",
    "    w = 1 / abs(y_ - ab[0]*X_ - ab[1])"
   ]
  },
  {
   "cell_type": "code",
   "execution_count": 29,
   "id": "9626cbe1-cb00-423d-ab78-af870f7160d4",
   "metadata": {},
   "outputs": [
    {
     "data": {
      "text/plain": [
       "<matplotlib.collections.PathCollection at 0x245a1e7c130>"
      ]
     },
     "execution_count": 29,
     "metadata": {},
     "output_type": "execute_result"
    },
    {
     "data": {
      "image/png": "[encoded data removed]",
      "text/plain": [
       "<Figure size 576x396 with 1 Axes>"
      ]
     },
     "metadata": {},
     "output_type": "display_data"
    }
   ],
   "source": [
    "Liner = sklearn.linear_model.LinearRegression().fit(X_, y_)\n",
    "\n",
    "y_new = np.array([10, 60])*ab[0] + ab[1]\n",
    "\n",
    "plt.plot(np.array([10, 60]), y_new)\n",
    "plt.scatter(X_[:, 0], y_)"
   ]
  },
  {
   "cell_type": "code",
   "execution_count": 31,
   "id": "f93fd7f0-1ddc-48c9-bc1c-b3f53c3fe31a",
   "metadata": {},
   "outputs": [],
   "source": [
    "import numpy as np\n",
    "import pandas as pd\n",
    "import seaborn as sns\n",
    "import statsmodels.api as sm\n",
    "import matplotlib.pyplot as plt\n",
    "from statsmodels.graphics.gofplots import ProbPlot\n",
    "plt.style.use('seaborn') # pretty matplotlib plots\n",
    "plt.rc('font', size=14)\n",
    "plt.rc('figure', titlesize=18)\n",
    "plt.rc('axes', labelsize=15)\n",
    "plt.rc('axes', titlesize=18)"
   ]
  },
  {
   "cell_type": "code",
   "execution_count": 47,
   "id": "e7231cdc-98bd-4c06-b826-6813684003d7",
   "metadata": {},
   "outputs": [],
   "source": [
    "X = pd.DataFrame(X_)\n",
    "y = pd.DataFrame(y_)\n",
    "\n",
    "# generate OLS model\n",
    "model = sm.WLS(y, sm.add_constant(X), weights=1/(X_**2))\n",
    "model_fit = model.fit()\n",
    "\n",
    "# create dataframe from X, y for easier plot handling\n",
    "dataframe = pd.concat([X, y], axis=1)"
   ]
  },
  {
   "cell_type": "code",
   "execution_count": null,
   "id": "15d917d4-9d2e-400c-a705-c955af27caf4",
   "metadata": {},
   "outputs": [
    {
     "data": {
      "text/plain": [
       "<matplotlib.collections.PathCollection at 0x245a2334160>"
      ]
     },
     "execution_count": 42,
     "metadata": {},
     "output_type": "execute_result"
    },
    {
     "data": {
      "image/png": "[encoded data removed]",
      "text/plain": [
       "<Figure size 576x396 with 1 Axes>"
      ]
     },
     "metadata": {},
     "output_type": "display_data"
    }
   ],
   "source": [
    "y_new = model_fit.predict(sm.add_constant([10, 70]))\n",
    "\n",
    "plt.plot(np.array([10, 70]), y_new)\n",
    "plt.scatter(X_[:, 0], y_)"
   ]
  },
  {
   "cell_type": "code",
   "execution_count": 38,
   "id": "12b586d1-f038-4536-b9ce-5be8881c795f",
   "metadata": {},
   "outputs": [
    {
     "name": "stderr",
     "output_type": "stream",
     "text": [
      "c:\\users\\nurma\\appdata\\local\\programs\\python\\python38\\lib\\site-packages\\seaborn\\_decorators.py:36: FutureWarning: Pass the following variables as keyword args: x, y. From version 0.12, the only valid positional argument will be `data`, and passing other arguments without an explicit keyword will result in an error or misinterpretation.\n",
      "  warnings.warn(\n"
     ]
    },
    {
     "data": {
      "image/png": "[encoded data removed]",
      "text/plain": [
       "<Figure size 576x396 with 1 Axes>"
      ]
     },
     "metadata": {},
     "output_type": "display_data"
    }
   ],
   "source": [
    "# model values\n",
    "model_fitted_y = model_fit.predict(sm.add_constant(X_))\n",
    "# model residuals\n",
    "model_residuals = model_fitted_y - y_\n",
    "\n",
    "# leverage, from statsmodels internals\n",
    "#model_leverage = model_fit.get_influence().hat_matrix_diag\n",
    "# cook's distance, from statsmodels internals\n",
    "#model_cooks = model_fit.get_influence().cooks_distance[0]\n",
    "\n",
    "plot_lm_1 = plt.figure()\n",
    "plot_lm_1.axes[0] = sns.residplot(model_fitted_y, model_residuals, data=dataframe,\n",
    "                          lowess=True,\n",
    "                          scatter_kws={'alpha': 0.5},\n",
    "                          line_kws={'color': 'red', 'lw': 1, 'alpha': 0.8})\n",
    "\n",
    "plot_lm_1.axes[0].set_title('Residuals vs Fitted')\n",
    "plot_lm_1.axes[0].set_xlabel('Fitted values')\n",
    "plot_lm_1.axes[0].set_ylabel('Residuals');"
   ]
  },
  {
   "cell_type": "code",
   "execution_count": 39,
   "id": "62fe44b9-5ca0-4da0-82c2-d6283a1c35dc",
   "metadata": {},
   "outputs": [],
   "source": [
    "def get_standartized_residuals(residuals, Xw):\n",
    "    Xw = np.array(Xw)\n",
    "    XTX_inverse = np.linalg.inv(Xw.T @ Xw)\n",
    "\n",
    "    H = Xw @ XTX_inverse @ (Xw.T)\n",
    "    h = np.diag(H)\n",
    "    \n",
    "    result = residuals/np.sqrt((residuals**2).mean()/(len(residuals) - 2)) / np.sqrt(1 - h)\n",
    "    \n",
    "    return result"
   ]
  },
  {
   "cell_type": "code",
   "execution_count": 40,
   "id": "3d21b8ed-e78c-468b-81cf-f0eed8397ab5",
   "metadata": {},
   "outputs": [
    {
     "name": "stderr",
     "output_type": "stream",
     "text": [
      "c:\\users\\nurma\\appdata\\local\\programs\\python\\python38\\lib\\site-packages\\seaborn\\_decorators.py:36: FutureWarning: Pass the following variables as keyword args: x, y. From version 0.12, the only valid positional argument will be `data`, and passing other arguments without an explicit keyword will result in an error or misinterpretation.\n",
      "  warnings.warn(\n"
     ]
    },
    {
     "data": {
      "image/png": "[encoded data removed]",
      "text/plain": [
       "<Figure size 576x396 with 1 Axes>"
      ]
     },
     "metadata": {},
     "output_type": "display_data"
    }
   ],
   "source": [
    "model_norm_residuals = get_standartized_residuals(model_residuals, sm.add_constant(X))\n",
    "model_norm_residuals_abs_sqrt = np.sqrt(abs(model_norm_residuals))\n",
    "\n",
    "plot_lm_3 = plt.figure()\n",
    "plt.scatter(model_fitted_y, model_norm_residuals_abs_sqrt, alpha=0.5);\n",
    "sns.regplot(model_fitted_y, model_norm_residuals_abs_sqrt,\n",
    "          scatter=False,\n",
    "          ci=False,\n",
    "          lowess=True,\n",
    "          line_kws={'color': 'red', 'lw': 1, 'alpha': 0.8});\n",
    "plot_lm_3.axes[0].set_title('Scale-Location')\n",
    "plot_lm_3.axes[0].set_xlabel('Fitted values')\n",
    "plot_lm_3.axes[0].set_ylabel('$\\sqrt{|Standardized Residuals|}$');\n",
    "\n",
    "# annotations\n",
    "abs_sq_norm_resid = np.flip(np.argsort(model_norm_residuals_abs_sqrt), 0)\n",
    "abs_sq_norm_resid_top_3 = abs_sq_norm_resid[:3]\n",
    "\n",
    "abs_norm_resid = np.flip(np.argsort(np.abs(model_norm_residuals)), 0)\n",
    "abs_norm_resid_top_3 = abs_norm_resid[:3]\n",
    "\n",
    "for i in abs_norm_resid_top_3:\n",
    "  plot_lm_3.axes[0].annotate(i,\n",
    "                             xy=(model_fitted_y[i],\n",
    "                                 model_norm_residuals_abs_sqrt[i]));"
   ]
  },
  {
   "cell_type": "code",
   "execution_count": null,
   "id": "7bd20c86-85b7-4478-985a-752331ed24e0",
   "metadata": {},
   "outputs": [],
   "source": []
  }
 ],
 "metadata": {
  "kernelspec": {
   "display_name": "Python 3 (ipykernel)",
   "language": "python",
   "name": "python3"
  },
  "language_info": {
   "codemirror_mode": {
    "name": "ipython",
    "version": 3
   },
   "file_extension": ".py",
   "mimetype": "text/x-python",
   "name": "python",
   "nbconvert_exporter": "python",
   "pygments_lexer": "ipython3",
   "version": "3.8.9"
  }
 },
 "nbformat": 4,
 "nbformat_minor": 5
}
